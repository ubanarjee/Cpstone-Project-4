{
    "cells": [
        {
            "cell_type": "markdown",
            "metadata": {},
            "source": "# Capstone Project - The Battle of Neighborhoods by Salil Ray"
        },
        {
            "cell_type": "markdown",
            "metadata": {},
            "source": "## Introduction"
        },
        {
            "cell_type": "markdown",
            "metadata": {},
            "source": "Introduction where you discuss the business problem and who would be interested in this project."
        },
        {
            "cell_type": "markdown",
            "metadata": {},
            "source": "#### \"Would you recommend a location in Hong Kong to open a new cinema?\"  \nMy boss, the stakeholder wants to **open a new cinema as company's new business**.  \n  \nHe explains that watching movie is a part of whole afternoon or night activities. Cinema should has **many restaurants and shopping places nearby**. Transportation is also an important factor. Customer can walk to cinema within **5 minutes** from **public transport facilities** is perfect.  \n  \nHe wants me concentrated on selection of cinema location according to its nearby environment. Cinema facility and rental price is not my concern. He lists out his **top 10 favorite cinemas** in Hong Kong with rating.  \n\nI work with my teammates and select **5 possible locations** to build the cinema. Which location should be suggested to the stakeholder?"
        },
        {
            "cell_type": "markdown",
            "metadata": {},
            "source": "## Data"
        },
        {
            "cell_type": "markdown",
            "metadata": {},
            "source": "Data where you describe the data that will be used to solve the problem and the source of the data."
        },
        {
            "cell_type": "markdown",
            "metadata": {},
            "source": "According to the question, following data are required."
        },
        {
            "cell_type": "markdown",
            "metadata": {},
            "source": "#### 1. Geographic coordinate of Hong Kong cinemas\n\nI need to **compare 5 possible locations with current cinemas** in Hong Kong. Therefore, I need to find a list of Hong Kong cinema and cinemas' geographic coordinates. Luckily, I can find the list and coordinates from the website https://hkmovie6.com/cinema ."
        },
        {
            "cell_type": "code",
            "execution_count": 1,
            "metadata": {},
            "outputs": [],
            "source": "# Import necessary library\nimport json\nimport pandas as pd"
        },
        {
            "cell_type": "code",
            "execution_count": 2,
            "metadata": {},
            "outputs": [
                {
                    "name": "stdout",
                    "output_type": "stream",
                    "text": "--2018-10-03 11:44:29--  https://hkmovie6.com/api/cinemas/lists\nResolving hkmovie6.com (hkmovie6.com)... 172.64.164.18, 172.64.165.18, 2606:4700:30::ac40:a412, ...\nConnecting to hkmovie6.com (hkmovie6.com)|172.64.164.18|:443... connected.\nHTTP request sent, awaiting response... 200 OK\nLength: unspecified [application/json]\nSaving to: \u2018hk_cinema_list.json\u2019\n\nhk_cinema_list.json     [ <=>                  ]  51.76K   286KB/s   in 0.2s   \n\n2018-10-03 11:44:31 (286 KB/s) - \u2018hk_cinema_list.json\u2019 saved [53003]\n\n"
                }
            ],
            "source": "# Download the cinema list\n!wget -O hk_cinema_list.json https://hkmovie6.com/api/cinemas/lists"
        },
        {
            "cell_type": "code",
            "execution_count": 3,
            "metadata": {},
            "outputs": [],
            "source": "# Convert the JSON data into DataFrmae\ncinemas_json = None\nwith open('hk_cinema_list.json', 'r', encoding='utf-8') as f:\n    cinemas_json = json.load(f)\n    \ncinemas = []\nfor data in cinemas_json['data']:    \n    cinemas.append({\n        'Name': data['name'],\n        'ChiName': data['chiName'],\n        'Address': data['address'],\n        'Latitude': data['lat'],\n        'Longitude': data['lon']\n    })\ndf_cinemas = pd.DataFrame(cinemas, columns=['Name','ChiName','Address','Latitude','Longitude'])"
        },
        {
            "cell_type": "code",
            "execution_count": 4,
            "metadata": {},
            "outputs": [
                {
                    "name": "stdout",
                    "output_type": "stream",
                    "text": "There are 68 cinemas in Hong Kong\n"
                }
            ],
            "source": "print('There are {} cinemas in Hong Kong'.format(len(df_cinemas)))"
        },
        {
            "cell_type": "markdown",
            "metadata": {},
            "source": "First five records of Hong Kong cinemas"
        },
        {
            "cell_type": "code",
            "execution_count": 5,
            "metadata": {},
            "outputs": [
                {
                    "data": {
                        "text/html": "<div>\n<style scoped>\n    .dataframe tbody tr th:only-of-type {\n        vertical-align: middle;\n    }\n\n    .dataframe tbody tr th {\n        vertical-align: top;\n    }\n\n    .dataframe thead th {\n        text-align: right;\n    }\n</style>\n<table border=\"1\" class=\"dataframe\">\n  <thead>\n    <tr style=\"text-align: right;\">\n      <th></th>\n      <th>Name</th>\n      <th>ChiName</th>\n      <th>Address</th>\n      <th>Latitude</th>\n      <th>Longitude</th>\n    </tr>\n  </thead>\n  <tbody>\n    <tr>\n      <th>0</th>\n      <td>Emperor Cinemas - Entertainment Building</td>\n      <td>\u82f1\u7687\u6232\u9662 - \u5a1b\u6a02\u884c</td>\n      <td>3/F, Emperor Cinemas Entertainment Building, 3...</td>\n      <td>22.281453</td>\n      <td>114.154230</td>\n    </tr>\n    <tr>\n      <th>1</th>\n      <td>The Coronet @ Emperor Cinemas - Entertainment ...</td>\n      <td>The Coronet @ \u82f1\u7687\u6232\u9662 - \u5a1b\u6a02\u884c</td>\n      <td>3/F, Emperor Cinemas Entertainment Building, 3...</td>\n      <td>22.281453</td>\n      <td>114.154230</td>\n    </tr>\n    <tr>\n      <th>2</th>\n      <td>Emperor Cinemas - Tuen Mun</td>\n      <td>\u82f1\u7687\u6232\u9662 - \u5c6f\u9580\u65b0\u90fd\u5546\u5834</td>\n      <td>3/F, New Town Commercial Arcade, 2 Tuen Lee St...</td>\n      <td>22.390776</td>\n      <td>113.975983</td>\n    </tr>\n    <tr>\n      <th>3</th>\n      <td>Broadway Circuit - CYBERPORT</td>\n      <td>\u767e\u8001\u532f\u6232\u9662 - \u6578\u78bc\u6e2f</td>\n      <td>Shop L1 - 3, Level 1, The Arcade, 100 Cyberpor...</td>\n      <td>22.261067</td>\n      <td>114.129825</td>\n    </tr>\n    <tr>\n      <th>4</th>\n      <td>Broadway Circuit - PALACE IFC</td>\n      <td>\u767e\u8001\u532f\u6232\u9662 - PALACE IFC</td>\n      <td>Podium L1, IFC Mall, 8 Finance Street, Central</td>\n      <td>22.285545</td>\n      <td>114.157979</td>\n    </tr>\n  </tbody>\n</table>\n</div>",
                        "text/plain": "                                                Name  \\\n0           Emperor Cinemas - Entertainment Building   \n1  The Coronet @ Emperor Cinemas - Entertainment ...   \n2                         Emperor Cinemas - Tuen Mun   \n3                       Broadway Circuit - CYBERPORT   \n4                      Broadway Circuit - PALACE IFC   \n\n                    ChiName  \\\n0                \u82f1\u7687\u6232\u9662 - \u5a1b\u6a02\u884c   \n1  The Coronet @ \u82f1\u7687\u6232\u9662 - \u5a1b\u6a02\u884c   \n2             \u82f1\u7687\u6232\u9662 - \u5c6f\u9580\u65b0\u90fd\u5546\u5834   \n3               \u767e\u8001\u532f\u6232\u9662 - \u6578\u78bc\u6e2f   \n4        \u767e\u8001\u532f\u6232\u9662 - PALACE IFC   \n\n                                             Address   Latitude   Longitude  \n0  3/F, Emperor Cinemas Entertainment Building, 3...  22.281453  114.154230  \n1  3/F, Emperor Cinemas Entertainment Building, 3...  22.281453  114.154230  \n2  3/F, New Town Commercial Arcade, 2 Tuen Lee St...  22.390776  113.975983  \n3  Shop L1 - 3, Level 1, The Arcade, 100 Cyberpor...  22.261067  114.129825  \n4     Podium L1, IFC Mall, 8 Finance Street, Central  22.285545  114.157979  "
                    },
                    "execution_count": 5,
                    "metadata": {},
                    "output_type": "execute_result"
                }
            ],
            "source": "df_cinemas.head()"
        },
        {
            "cell_type": "markdown",
            "metadata": {},
            "source": "#### 2. Geographic coordinates of 5 possible cinema addresses\nGeographic coordinates of 5 possible cinemas are required and I can use Google Map API to find this information"
        },
        {
            "cell_type": "code",
            "execution_count": 6,
            "metadata": {},
            "outputs": [],
            "source": "possible_locations = [\n    { 'Location': 'L1', 'Address': 'Sau Mau Ping Shopping Centre, Sau Mau Ping'},\n    { 'Location': 'L2', 'Address': 'Tuen Mun Ferry, Tuen Mun'},\n    { 'Location': 'L3', 'Address': 'Un Chau Shopping Centre, Cheung Sha Wan'},\n    { 'Location': 'L4', 'Address': 'Prosperity Millennia Plaza, North Point'},\n    { 'Location': 'L5', 'Address': 'Tsuen Fung Centre Shopping Arcade, Tsuen Wan'},\n]"
        },
        {
            "cell_type": "code",
            "execution_count": 7,
            "metadata": {},
            "outputs": [
                {
                    "name": "stdout",
                    "output_type": "stream",
                    "text": "Collecting googlemaps\n  Downloading https://files.pythonhosted.org/packages/5a/3d/13b4230f3c1b8a586cdc8d8179f3c6af771c11247f8de9c166d1ab37f51d/googlemaps-3.0.2.tar.gz\nRequirement not upgraded as not directly required: requests<3.0,>=2.11.1 in /home/jupyterlab/conda/lib/python3.6/site-packages (from googlemaps) (2.18.4)\nRequirement not upgraded as not directly required: chardet<3.1.0,>=3.0.2 in /home/jupyterlab/conda/lib/python3.6/site-packages (from requests<3.0,>=2.11.1->googlemaps) (3.0.4)\nRequirement not upgraded as not directly required: idna<2.7,>=2.5 in /home/jupyterlab/conda/lib/python3.6/site-packages (from requests<3.0,>=2.11.1->googlemaps) (2.6)\nRequirement not upgraded as not directly required: urllib3<1.23,>=1.21.1 in /home/jupyterlab/conda/lib/python3.6/site-packages (from requests<3.0,>=2.11.1->googlemaps) (1.22)\nRequirement not upgraded as not directly required: certifi>=2017.4.17 in /home/jupyterlab/conda/lib/python3.6/site-packages (from requests<3.0,>=2.11.1->googlemaps) (2018.8.24)\nBuilding wheels for collected packages: googlemaps\n  Running setup.py bdist_wheel for googlemaps ... \u001b[?25ldone\n\u001b[?25h  Stored in directory: /home/jupyterlab/.cache/pip/wheels/3c/3f/25/ce6d7722dba07e5d4a12d27ab38f3d7add65ef43171b02c819\nSuccessfully built googlemaps\n\u001b[31mdistributed 1.21.8 requires msgpack, which is not installed.\u001b[0m\nInstalling collected packages: googlemaps\nSuccessfully installed googlemaps-3.0.2\n"
                }
            ],
            "source": "# install the google map api client library\n!pip install -U googlemaps"
        },
        {
            "cell_type": "code",
            "execution_count": 8,
            "metadata": {},
            "outputs": [],
            "source": "google_act = None\nwith open('google_map_act.json', 'r') as f:\n    google_act = json.load(f)\n    \nGOOGLE_MAP_API_KEY = google_act['api_key']    \n\nimport googlemaps\ngmaps = googlemaps.Client(key=GOOGLE_MAP_API_KEY)"
        },
        {
            "cell_type": "code",
            "execution_count": 9,
            "metadata": {},
            "outputs": [],
            "source": "# Retrieve geolocation and create the dataframe of pending cinema addresses\ndef getLatLng(address):\n    latlnt = gmaps.geocode('{}, Hong Kong'.format(address))\n    return (latlnt[0]['geometry']['location']['lat'], latlnt[0]['geometry']['location']['lng'])"
        },
        {
            "cell_type": "markdown",
            "metadata": {},
            "source": "Dataframe of 5 target locations with geographic coordinates information"
        },
        {
            "cell_type": "code",
            "execution_count": 10,
            "metadata": {},
            "outputs": [
                {
                    "data": {
                        "text/html": "<div>\n<style scoped>\n    .dataframe tbody tr th:only-of-type {\n        vertical-align: middle;\n    }\n\n    .dataframe tbody tr th {\n        vertical-align: top;\n    }\n\n    .dataframe thead th {\n        text-align: right;\n    }\n</style>\n<table border=\"1\" class=\"dataframe\">\n  <thead>\n    <tr style=\"text-align: right;\">\n      <th></th>\n      <th>Location</th>\n      <th>Address</th>\n      <th>Latitude</th>\n      <th>Longitude</th>\n    </tr>\n  </thead>\n  <tbody>\n    <tr>\n      <th>0</th>\n      <td>L1</td>\n      <td>Sau Mau Ping Shopping Centre, Sau Mau Ping</td>\n      <td>22.319503</td>\n      <td>114.232187</td>\n    </tr>\n    <tr>\n      <th>1</th>\n      <td>L2</td>\n      <td>Tuen Mun Ferry, Tuen Mun</td>\n      <td>22.371780</td>\n      <td>113.966039</td>\n    </tr>\n    <tr>\n      <th>2</th>\n      <td>L3</td>\n      <td>Un Chau Shopping Centre, Cheung Sha Wan</td>\n      <td>22.337280</td>\n      <td>114.156457</td>\n    </tr>\n    <tr>\n      <th>3</th>\n      <td>L4</td>\n      <td>Prosperity Millennia Plaza, North Point</td>\n      <td>22.291698</td>\n      <td>114.208168</td>\n    </tr>\n    <tr>\n      <th>4</th>\n      <td>L5</td>\n      <td>Tsuen Fung Centre Shopping Arcade, Tsuen Wan</td>\n      <td>22.372112</td>\n      <td>114.119317</td>\n    </tr>\n  </tbody>\n</table>\n</div>",
                        "text/plain": "  Location                                       Address   Latitude  \\\n0       L1    Sau Mau Ping Shopping Centre, Sau Mau Ping  22.319503   \n1       L2                      Tuen Mun Ferry, Tuen Mun  22.371780   \n2       L3       Un Chau Shopping Centre, Cheung Sha Wan  22.337280   \n3       L4       Prosperity Millennia Plaza, North Point  22.291698   \n4       L5  Tsuen Fung Centre Shopping Arcade, Tsuen Wan  22.372112   \n\n    Longitude  \n0  114.232187  \n1  113.966039  \n2  114.156457  \n3  114.208168  \n4  114.119317  "
                    },
                    "execution_count": 10,
                    "metadata": {},
                    "output_type": "execute_result"
                }
            ],
            "source": "for loc in possible_locations:        \n    (lat, lng) = getLatLng(loc['Address'])\n    loc['Latitude'] = lat\n    loc['Longitude'] = lng\n    \ndf_possible_locations = pd.DataFrame(possible_locations, columns=['Location', 'Address', 'Latitude', 'Longitude'])\ndf_possible_locations"
        },
        {
            "cell_type": "markdown",
            "metadata": {},
            "source": "#### 3. Favorite cinema list of stakeholder"
        },
        {
            "cell_type": "markdown",
            "metadata": {},
            "source": "The favorite cinema list of stakeholder is an important information that I can **use it as profile to select the best location**.  "
        },
        {
            "cell_type": "code",
            "execution_count": 11,
            "metadata": {},
            "outputs": [
                {
                    "data": {
                        "text/html": "<div>\n<style scoped>\n    .dataframe tbody tr th:only-of-type {\n        vertical-align: middle;\n    }\n\n    .dataframe tbody tr th {\n        vertical-align: top;\n    }\n\n    .dataframe thead th {\n        text-align: right;\n    }\n</style>\n<table border=\"1\" class=\"dataframe\">\n  <thead>\n    <tr style=\"text-align: right;\">\n      <th></th>\n      <th>Name</th>\n      <th>Rating</th>\n    </tr>\n  </thead>\n  <tbody>\n    <tr>\n      <th>0</th>\n      <td>Broadway Circuit - MONGKOK</td>\n      <td>4.5</td>\n    </tr>\n    <tr>\n      <th>1</th>\n      <td>Broadway Circuit - The ONE</td>\n      <td>4.5</td>\n    </tr>\n    <tr>\n      <th>2</th>\n      <td>Grand Ocean</td>\n      <td>4.3</td>\n    </tr>\n    <tr>\n      <th>3</th>\n      <td>The Grand Cinema</td>\n      <td>3.4</td>\n    </tr>\n    <tr>\n      <th>4</th>\n      <td>AMC Pacific Place</td>\n      <td>2.3</td>\n    </tr>\n    <tr>\n      <th>5</th>\n      <td>UA IMAX @ Airport</td>\n      <td>1.5</td>\n    </tr>\n  </tbody>\n</table>\n</div>",
                        "text/plain": "                         Name  Rating\n0  Broadway Circuit - MONGKOK     4.5\n1  Broadway Circuit - The ONE     4.5\n2                 Grand Ocean     4.3\n3            The Grand Cinema     3.4\n4           AMC Pacific Place     2.3\n5           UA IMAX @ Airport     1.5"
                    },
                    "execution_count": 11,
                    "metadata": {},
                    "output_type": "execute_result"
                }
            ],
            "source": "boss_favorite = [\n    {'Name': 'Broadway Circuit - MONGKOK', 'Rating': 4.5},\n    {'Name': 'Broadway Circuit - The ONE', 'Rating': 4.5},\n    {'Name': 'Grand Ocean', 'Rating': 4.3},\n    {'Name': 'The Grand Cinema', 'Rating': 3.4},\n    {'Name': 'AMC Pacific Place', 'Rating': 2.3},\n    {'Name': 'UA IMAX @ Airport', 'Rating': 1.5},\n]\n\ndf_boss_favorite = pd.DataFrame(boss_favorite, columns=['Name','Rating'])\ndf_boss_favorite"
        },
        {
            "cell_type": "markdown",
            "metadata": {},
            "source": "#### 4. Eating, Shopping and Public transportation facility around cinema\nThe recommended cinema location needs to have many eating and shopping venues nearby. Convenient public transport is also required.  \nThese data can be found by using FourSquare API to find these venues around the location. The radius of exploration distance is set to 500 meters, which is about 5 minutes walking distance."
        },
        {
            "cell_type": "markdown",
            "metadata": {},
            "source": "Following type of venue category will be used to search"
        },
        {
            "cell_type": "code",
            "execution_count": 12,
            "metadata": {},
            "outputs": [],
            "source": "fs_categories = {\n    'Food': '4d4b7105d754a06374d81259',\n    'Shop & Service': '4d4b7105d754a06378d81259',\n    'Bus Stop': '52f2ab2ebcbc57f1066b8b4f',\n    'Metro Station': '4bf58dd8d48988d1fd931735',\n    'Nightlife Spot': '4d4b7105d754a06376d81259',\n    'Arts & Entertainment': '4d4b7104d754a06370d81259'\n}"
        },
        {
            "cell_type": "code",
            "execution_count": 13,
            "metadata": {},
            "outputs": [
                {
                    "data": {
                        "text/plain": "'Food, Shop & Service, Bus Stop, Metro Station, Nightlife Spot, Arts & Entertainment'"
                    },
                    "execution_count": 13,
                    "metadata": {},
                    "output_type": "execute_result"
                }
            ],
            "source": "', '.join([ cat for cat in fs_categories])"
        },
        {
            "cell_type": "code",
            "execution_count": 14,
            "metadata": {},
            "outputs": [],
            "source": "cinema = df_cinemas.loc[0]"
        },
        {
            "cell_type": "code",
            "execution_count": 15,
            "metadata": {},
            "outputs": [
                {
                    "name": "stdout",
                    "output_type": "stream",
                    "text": "Use the first cinema \"Emperor Cinemas - Entertainment Building\" in the list as example to explore venues nearyby\n"
                }
            ],
            "source": "print('Use the first cinema \"{}\" in the list as example to explore venues nearyby'.format(cinema['Name']))"
        },
        {
            "cell_type": "code",
            "execution_count": 16,
            "metadata": {},
            "outputs": [
                {
                    "name": "stdout",
                    "output_type": "stream",
                    "text": "Collecting foursquare\n  Downloading https://files.pythonhosted.org/packages/7e/9f/21ef283c50eb576eaebb0525d8a988baffe4d59ac2bbb1f9d84434bdf616/foursquare-1%212016.9.12.tar.gz\nRequirement already satisfied: requests>=2.1 in /home/jupyterlab/conda/lib/python3.6/site-packages (from foursquare) (2.18.4)\nRequirement already satisfied: six in /home/jupyterlab/conda/lib/python3.6/site-packages (from foursquare) (1.11.0)\nRequirement already satisfied: chardet<3.1.0,>=3.0.2 in /home/jupyterlab/conda/lib/python3.6/site-packages (from requests>=2.1->foursquare) (3.0.4)\nRequirement already satisfied: idna<2.7,>=2.5 in /home/jupyterlab/conda/lib/python3.6/site-packages (from requests>=2.1->foursquare) (2.6)\nRequirement already satisfied: urllib3<1.23,>=1.21.1 in /home/jupyterlab/conda/lib/python3.6/site-packages (from requests>=2.1->foursquare) (1.22)\nRequirement already satisfied: certifi>=2017.4.17 in /home/jupyterlab/conda/lib/python3.6/site-packages (from requests>=2.1->foursquare) (2018.8.24)\nBuilding wheels for collected packages: foursquare\n  Running setup.py bdist_wheel for foursquare ... \u001b[?25ldone\n\u001b[?25h  Stored in directory: /home/jupyterlab/.cache/pip/wheels/c1/a4/ff/e07a4f4f02ef7189c5b1e0738a09131f6c5f2de811ce3a39a0\nSuccessfully built foursquare\n\u001b[31mdistributed 1.21.8 requires msgpack, which is not installed.\u001b[0m\nInstalling collected packages: foursquare\nSuccessfully installed foursquare-1!2016.9.12\n"
                }
            ],
            "source": "# Install FourSquare client library\n!pip install foursquare"
        },
        {
            "cell_type": "code",
            "execution_count": 17,
            "metadata": {},
            "outputs": [],
            "source": "fs_act = None\nwith open('fs_act.json') as json_data:\n    fs_act = json.load(json_data)"
        },
        {
            "cell_type": "code",
            "execution_count": 18,
            "metadata": {},
            "outputs": [],
            "source": "import foursquare\nfrom pandas.io.json import json_normalize # tranform JSON file into a pandas dataframe\nfs = foursquare.Foursquare(client_id=fs_act['client_id'], client_secret=fs_act['client_secret'])"
        },
        {
            "cell_type": "code",
            "execution_count": 19,
            "metadata": {},
            "outputs": [],
            "source": "RADIUS = 500 # 500m, around 5 minutes walking time"
        },
        {
            "cell_type": "code",
            "execution_count": 20,
            "metadata": {},
            "outputs": [],
            "source": "# Define a function to search nearby information and convert the result as dataframe\ndef venues_nearby(latitude, longitude, category, verbose=True):    \n    results = fs.venues.search(\n        params = {\n            'query': category, \n            'll': '{},{}'.format(latitude, longitude),\n            'radius': RADIUS,\n            'categoryId': fs_categories[category]\n        }\n    )    \n    df = json_normalize(results['venues'])\n    cols = ['Name','Latitude','Longitude','Tips','Users','Visits']    \n    if( len(df) == 0 ):        \n        df = pd.DataFrame(columns=cols)\n    else:        \n        df = df[['name','location.lat','location.lng','stats.tipCount','stats.usersCount','stats.visitsCount']]\n        df.columns = cols\n    if( verbose ):\n        print('{} \"{}\" venues are found within {}m of location'.format(len(df), category, RADIUS))\n    return df\n    "
        },
        {
            "cell_type": "markdown",
            "metadata": {},
            "source": "Find Metro Station around the cinema"
        },
        {
            "cell_type": "code",
            "execution_count": 21,
            "metadata": {},
            "outputs": [
                {
                    "name": "stdout",
                    "output_type": "stream",
                    "text": "2 \"Metro Station\" venues are found within 500m of location\n"
                },
                {
                    "data": {
                        "text/html": "<div>\n<style scoped>\n    .dataframe tbody tr th:only-of-type {\n        vertical-align: middle;\n    }\n\n    .dataframe tbody tr th {\n        vertical-align: top;\n    }\n\n    .dataframe thead th {\n        text-align: right;\n    }\n</style>\n<table border=\"1\" class=\"dataframe\">\n  <thead>\n    <tr style=\"text-align: right;\">\n      <th></th>\n      <th>Name</th>\n      <th>Latitude</th>\n      <th>Longitude</th>\n      <th>Tips</th>\n      <th>Users</th>\n      <th>Visits</th>\n    </tr>\n  </thead>\n  <tbody>\n    <tr>\n      <th>0</th>\n      <td>MTR Central Station (\u6e2f\u9435\u4e2d\u74b0\u7ad9)</td>\n      <td>22.281911</td>\n      <td>114.158406</td>\n      <td>0</td>\n      <td>0</td>\n      <td>0</td>\n    </tr>\n    <tr>\n      <th>1</th>\n      <td>MTR Hong Kong Station (\u6e2f\u9435\u9999\u6e2f\u7ad9)</td>\n      <td>22.284926</td>\n      <td>114.158314</td>\n      <td>0</td>\n      <td>0</td>\n      <td>0</td>\n    </tr>\n  </tbody>\n</table>\n</div>",
                        "text/plain": "                            Name   Latitude   Longitude  Tips  Users  Visits\n0    MTR Central Station (\u6e2f\u9435\u4e2d\u74b0\u7ad9)  22.281911  114.158406     0      0       0\n1  MTR Hong Kong Station (\u6e2f\u9435\u9999\u6e2f\u7ad9)  22.284926  114.158314     0      0       0"
                    },
                    "execution_count": 21,
                    "metadata": {},
                    "output_type": "execute_result"
                }
            ],
            "source": "venues_nearby(cinema['Latitude'], cinema['Longitude'], 'Metro Station').head()"
        },
        {
            "cell_type": "markdown",
            "metadata": {},
            "source": "Find Bus Stop around the cinema"
        },
        {
            "cell_type": "code",
            "execution_count": 22,
            "metadata": {},
            "outputs": [
                {
                    "name": "stdout",
                    "output_type": "stream",
                    "text": "30 \"Bus Stop\" venues are found within 500m of location\n"
                },
                {
                    "data": {
                        "text/html": "<div>\n<style scoped>\n    .dataframe tbody tr th:only-of-type {\n        vertical-align: middle;\n    }\n\n    .dataframe tbody tr th {\n        vertical-align: top;\n    }\n\n    .dataframe thead th {\n        text-align: right;\n    }\n</style>\n<table border=\"1\" class=\"dataframe\">\n  <thead>\n    <tr style=\"text-align: right;\">\n      <th></th>\n      <th>Name</th>\n      <th>Latitude</th>\n      <th>Longitude</th>\n      <th>Tips</th>\n      <th>Users</th>\n      <th>Visits</th>\n    </tr>\n  </thead>\n  <tbody>\n    <tr>\n      <th>0</th>\n      <td>Seymour Road / Robinson Road Bus Stop \u897f\u6469\u9053\uff0f\u7f85\u4fbf\u81e3\u9053\u5df4\u58eb\u7ad9</td>\n      <td>22.280465</td>\n      <td>114.150347</td>\n      <td>0</td>\n      <td>0</td>\n      <td>0</td>\n    </tr>\n    <tr>\n      <th>1</th>\n      <td>Douglas Street Bus Stop \u5fb7\u5fcc\u5229\u58eb\u8857\u5df4\u58eb\u7ad9</td>\n      <td>22.283273</td>\n      <td>114.156910</td>\n      <td>0</td>\n      <td>0</td>\n      <td>0</td>\n    </tr>\n    <tr>\n      <th>2</th>\n      <td>Hang Seng Bank Headquarters / Connaught Road C...</td>\n      <td>22.284741</td>\n      <td>114.156404</td>\n      <td>0</td>\n      <td>0</td>\n      <td>0</td>\n    </tr>\n    <tr>\n      <th>3</th>\n      <td>HSBC Headquarters Bus Stop \u532f\u8c50\u7e3d\u884c\u5df4\u58eb\u7ad9</td>\n      <td>22.280577</td>\n      <td>114.159446</td>\n      <td>0</td>\n      <td>0</td>\n      <td>0</td>\n    </tr>\n    <tr>\n      <th>4</th>\n      <td>Dr. Sun Yat-Sen Museum Bus Stop \u5b6b\u4e2d\u5c71\u7d00\u5ff5\u9928\u5df4\u58eb\u7ad9</td>\n      <td>22.279132</td>\n      <td>114.152743</td>\n      <td>0</td>\n      <td>0</td>\n      <td>0</td>\n    </tr>\n  </tbody>\n</table>\n</div>",
                        "text/plain": "                                                Name   Latitude   Longitude  \\\n0  Seymour Road / Robinson Road Bus Stop \u897f\u6469\u9053\uff0f\u7f85\u4fbf\u81e3\u9053\u5df4\u58eb\u7ad9  22.280465  114.150347   \n1                   Douglas Street Bus Stop \u5fb7\u5fcc\u5229\u58eb\u8857\u5df4\u58eb\u7ad9  22.283273  114.156910   \n2  Hang Seng Bank Headquarters / Connaught Road C...  22.284741  114.156404   \n3                 HSBC Headquarters Bus Stop \u532f\u8c50\u7e3d\u884c\u5df4\u58eb\u7ad9  22.280577  114.159446   \n4          Dr. Sun Yat-Sen Museum Bus Stop \u5b6b\u4e2d\u5c71\u7d00\u5ff5\u9928\u5df4\u58eb\u7ad9  22.279132  114.152743   \n\n   Tips  Users  Visits  \n0     0      0       0  \n1     0      0       0  \n2     0      0       0  \n3     0      0       0  \n4     0      0       0  "
                    },
                    "execution_count": 22,
                    "metadata": {},
                    "output_type": "execute_result"
                }
            ],
            "source": "venues_nearby(cinema['Latitude'], cinema['Longitude'], 'Bus Stop').head()"
        },
        {
            "cell_type": "markdown",
            "metadata": {},
            "source": "Find eating places around the cinema"
        },
        {
            "cell_type": "code",
            "execution_count": 23,
            "metadata": {},
            "outputs": [
                {
                    "name": "stdout",
                    "output_type": "stream",
                    "text": "25 \"Food\" venues are found within 500m of location\n"
                },
                {
                    "data": {
                        "text/html": "<div>\n<style scoped>\n    .dataframe tbody tr th:only-of-type {\n        vertical-align: middle;\n    }\n\n    .dataframe tbody tr th {\n        vertical-align: top;\n    }\n\n    .dataframe thead th {\n        text-align: right;\n    }\n</style>\n<table border=\"1\" class=\"dataframe\">\n  <thead>\n    <tr style=\"text-align: right;\">\n      <th></th>\n      <th>Name</th>\n      <th>Latitude</th>\n      <th>Longitude</th>\n      <th>Tips</th>\n      <th>Users</th>\n      <th>Visits</th>\n    </tr>\n  </thead>\n  <tbody>\n    <tr>\n      <th>0</th>\n      <td>Mana! Fast Slow Food</td>\n      <td>22.282921</td>\n      <td>114.154651</td>\n      <td>0</td>\n      <td>0</td>\n      <td>0</td>\n    </tr>\n    <tr>\n      <th>1</th>\n      <td>Good Luck Thai Food (\u9d3b\u904b\u6cf0\u570b\u7f8e\u98df)</td>\n      <td>22.281165</td>\n      <td>114.155296</td>\n      <td>0</td>\n      <td>0</td>\n      <td>0</td>\n    </tr>\n    <tr>\n      <th>2</th>\n      <td>Soul Food</td>\n      <td>22.281668</td>\n      <td>114.152495</td>\n      <td>0</td>\n      <td>0</td>\n      <td>0</td>\n    </tr>\n    <tr>\n      <th>3</th>\n      <td>Chiu Lung Fast Food (\u662d\u9686\u7f8e\u98df)</td>\n      <td>22.282659</td>\n      <td>114.156753</td>\n      <td>0</td>\n      <td>0</td>\n      <td>0</td>\n    </tr>\n    <tr>\n      <th>4</th>\n      <td>Sun Hing Fast Food (\u65b0\u8208\u7f8e\u98df)</td>\n      <td>22.282521</td>\n      <td>114.156717</td>\n      <td>0</td>\n      <td>0</td>\n      <td>0</td>\n    </tr>\n  </tbody>\n</table>\n</div>",
                        "text/plain": "                           Name   Latitude   Longitude  Tips  Users  Visits\n0          Mana! Fast Slow Food  22.282921  114.154651     0      0       0\n1  Good Luck Thai Food (\u9d3b\u904b\u6cf0\u570b\u7f8e\u98df)  22.281165  114.155296     0      0       0\n2                     Soul Food  22.281668  114.152495     0      0       0\n3    Chiu Lung Fast Food (\u662d\u9686\u7f8e\u98df)  22.282659  114.156753     0      0       0\n4     Sun Hing Fast Food (\u65b0\u8208\u7f8e\u98df)  22.282521  114.156717     0      0       0"
                    },
                    "execution_count": 23,
                    "metadata": {},
                    "output_type": "execute_result"
                }
            ],
            "source": "venues_nearby(cinema['Latitude'], cinema['Longitude'], 'Food').head()"
        },
        {
            "cell_type": "code",
            "execution_count": 24,
            "metadata": {},
            "outputs": [
                {
                    "name": "stdout",
                    "output_type": "stream",
                    "text": "12 \"Arts & Entertainment\" venues are found within 500m of location\n"
                },
                {
                    "data": {
                        "text/html": "<div>\n<style scoped>\n    .dataframe tbody tr th:only-of-type {\n        vertical-align: middle;\n    }\n\n    .dataframe tbody tr th {\n        vertical-align: top;\n    }\n\n    .dataframe thead th {\n        text-align: right;\n    }\n</style>\n<table border=\"1\" class=\"dataframe\">\n  <thead>\n    <tr style=\"text-align: right;\">\n      <th></th>\n      <th>Name</th>\n      <th>Latitude</th>\n      <th>Longitude</th>\n      <th>Tips</th>\n      <th>Users</th>\n      <th>Visits</th>\n    </tr>\n  </thead>\n  <tbody>\n    <tr>\n      <th>0</th>\n      <td>Tai Kwun Centre for Heritage and Arts (\u5927\u9928\u53e4\u8e5f\u53ca\u85dd\u8853\u9928)</td>\n      <td>22.281668</td>\n      <td>114.154216</td>\n      <td>0</td>\n      <td>0</td>\n      <td>0</td>\n    </tr>\n    <tr>\n      <th>1</th>\n      <td>Wah Tung China Arts Limited (\u83ef\u901a\u9676\u74f7\u85dd\u8853\u6709\u9650\u516c\u53f8)</td>\n      <td>22.283046</td>\n      <td>114.152723</td>\n      <td>0</td>\n      <td>0</td>\n      <td>0</td>\n    </tr>\n    <tr>\n      <th>2</th>\n      <td>Ravenel Fine Arts Limited \u777f\u8299\u5967</td>\n      <td>22.281819</td>\n      <td>114.156906</td>\n      <td>0</td>\n      <td>0</td>\n      <td>0</td>\n    </tr>\n    <tr>\n      <th>3</th>\n      <td>Ben Brown Fine Arts</td>\n      <td>22.281853</td>\n      <td>114.157285</td>\n      <td>0</td>\n      <td>0</td>\n      <td>0</td>\n    </tr>\n    <tr>\n      <th>4</th>\n      <td>KONG Arts Space</td>\n      <td>22.281751</td>\n      <td>114.153300</td>\n      <td>0</td>\n      <td>0</td>\n      <td>0</td>\n    </tr>\n  </tbody>\n</table>\n</div>",
                        "text/plain": "                                               Name   Latitude   Longitude  \\\n0  Tai Kwun Centre for Heritage and Arts (\u5927\u9928\u53e4\u8e5f\u53ca\u85dd\u8853\u9928)  22.281668  114.154216   \n1          Wah Tung China Arts Limited (\u83ef\u901a\u9676\u74f7\u85dd\u8853\u6709\u9650\u516c\u53f8)  22.283046  114.152723   \n2                     Ravenel Fine Arts Limited \u777f\u8299\u5967  22.281819  114.156906   \n3                               Ben Brown Fine Arts  22.281853  114.157285   \n4                                   KONG Arts Space  22.281751  114.153300   \n\n   Tips  Users  Visits  \n0     0      0       0  \n1     0      0       0  \n2     0      0       0  \n3     0      0       0  \n4     0      0       0  "
                    },
                    "execution_count": 24,
                    "metadata": {},
                    "output_type": "execute_result"
                }
            ],
            "source": "venues_nearby(cinema['Latitude'], cinema['Longitude'], 'Arts & Entertainment').head()"
        },
        {
            "cell_type": "markdown",
            "metadata": {},
            "source": "## Methodology "
        },
        {
            "cell_type": "markdown",
            "metadata": {},
            "source": "Methodology section which represents the main component of the report where you discuss and describe any exploratory data analysis that you did, any inferential statistical testing that you performed, and what machine learnings were used and why."
        },
        {
            "cell_type": "markdown",
            "metadata": {},
            "source": "With above data, I can use content-based recommendation technique to resolve the problem.\n\nCombine with FourSquare API which provides how many venues in different category of Hong Kong cinemas, a matrix which captured characteristic of venues nearby cinema are built. Stakeholder's favorite list is the profile to combine with the matrix to become a weighted matrix of favorite cinema.\n\nThe weighted matrix can be applied on 5 target locations with venues information to generate a ranking result. The the top one on the ranking list can be recommended to the stakeholder.\n\nBefore building the matrix, I have to prepare the required data and apply some data analysis."
        },
        {
            "cell_type": "markdown",
            "metadata": {},
            "source": "#### Data Cleansing and Preparation"
        },
        {
            "cell_type": "markdown",
            "metadata": {},
            "source": "Check the cinemas dataset contains any duplicated address"
        },
        {
            "cell_type": "code",
            "execution_count": 25,
            "metadata": {},
            "outputs": [
                {
                    "data": {
                        "text/html": "<div>\n<style scoped>\n    .dataframe tbody tr th:only-of-type {\n        vertical-align: middle;\n    }\n\n    .dataframe tbody tr th {\n        vertical-align: top;\n    }\n\n    .dataframe thead th {\n        text-align: right;\n    }\n</style>\n<table border=\"1\" class=\"dataframe\">\n  <thead>\n    <tr style=\"text-align: right;\">\n      <th></th>\n      <th>Name</th>\n      <th>ChiName</th>\n      <th>Address</th>\n      <th>Latitude</th>\n      <th>Longitude</th>\n    </tr>\n  </thead>\n  <tbody>\n    <tr>\n      <th>5</th>\n      <td>Cinema City VICTORIA (Causeway Bay)</td>\n      <td>Cinema City VICTORIA (\u9285\u947c\u7063)</td>\n      <td>2-8 Sugar Street, Causeway Bay, Hong Kong</td>\n      <td>22.279805</td>\n      <td>114.187126</td>\n    </tr>\n    <tr>\n      <th>6</th>\n      <td>Diamond Suite VIP House @ Cinema City VICTORIA...</td>\n      <td>Diamond Suite VIP House @ Cinema City VICTORIA...</td>\n      <td>2-8 Sugar Street, Causeway Bay, Hong Kong</td>\n      <td>22.279805</td>\n      <td>114.187126</td>\n    </tr>\n    <tr>\n      <th>28</th>\n      <td>The Grand Cinema</td>\n      <td>The Grand Cinema</td>\n      <td>2/F, Elements, 1 Austin Road West, Kowloon</td>\n      <td>22.304118</td>\n      <td>114.161466</td>\n    </tr>\n    <tr>\n      <th>29</th>\n      <td>The Grand SC Starsuite</td>\n      <td>The Grand SC Starsuite</td>\n      <td>2/F, Elements, 1 Austin Road West, Kowloon</td>\n      <td>22.304118</td>\n      <td>114.161466</td>\n    </tr>\n    <tr>\n      <th>0</th>\n      <td>Emperor Cinemas - Entertainment Building</td>\n      <td>\u82f1\u7687\u6232\u9662 - \u5a1b\u6a02\u884c</td>\n      <td>3/F, Emperor Cinemas Entertainment Building, 3...</td>\n      <td>22.281453</td>\n      <td>114.154230</td>\n    </tr>\n    <tr>\n      <th>1</th>\n      <td>The Coronet @ Emperor Cinemas - Entertainment ...</td>\n      <td>The Coronet @ \u82f1\u7687\u6232\u9662 - \u5a1b\u6a02\u884c</td>\n      <td>3/F, Emperor Cinemas Entertainment Building, 3...</td>\n      <td>22.281453</td>\n      <td>114.154230</td>\n    </tr>\n    <tr>\n      <th>43</th>\n      <td>BEA IMAX @ UA iSQUARE</td>\n      <td>BEA IMAX @ UA iSQUARE</td>\n      <td>7/F, iSQUARE, 63 Nathan Road, Tsimshatsui</td>\n      <td>22.296648</td>\n      <td>114.171974</td>\n    </tr>\n    <tr>\n      <th>46</th>\n      <td>Phoenix Club @ UA iSQUARE</td>\n      <td>\u9cef\u51f0\u5f71\u9662 @ UA iSQUARE</td>\n      <td>7/F, iSQUARE, 63 Nathan Road, Tsimshatsui</td>\n      <td>22.296648</td>\n      <td>114.171974</td>\n    </tr>\n    <tr>\n      <th>49</th>\n      <td>UA iSQUARE</td>\n      <td>UA iSQUARE</td>\n      <td>7/F, iSQUARE, 63 Nathan Road, Tsimshatsui</td>\n      <td>22.296648</td>\n      <td>114.171974</td>\n    </tr>\n    <tr>\n      <th>42</th>\n      <td>BEA IMAX @ UA Cine Moko</td>\n      <td>BEA IMAX @ UA Cine Moko</td>\n      <td>L4, MOKO, 193 Prince Edward Road West, Mongkok...</td>\n      <td>22.323800</td>\n      <td>114.172000</td>\n    </tr>\n    <tr>\n      <th>48</th>\n      <td>UA Cine Moko</td>\n      <td>UA Cine Moko</td>\n      <td>L4, MOKO, 193 Prince Edward Road West, Mongkok...</td>\n      <td>22.323800</td>\n      <td>114.172000</td>\n    </tr>\n    <tr>\n      <th>44</th>\n      <td>BEA IMAX @ UA MegaBox</td>\n      <td>BEA IMAX @ UA MegaBox</td>\n      <td>Level 11, MegaBox, Enterprise Square 5, 38 Wan...</td>\n      <td>22.319533</td>\n      <td>114.208555</td>\n    </tr>\n    <tr>\n      <th>45</th>\n      <td>BEA Oscars Club @ UA MegaBox</td>\n      <td>BEA Oscars Club @ UA MegaBox</td>\n      <td>Level 11, MegaBox, Enterprise Square 5, 38 Wan...</td>\n      <td>22.319533</td>\n      <td>114.208555</td>\n    </tr>\n    <tr>\n      <th>51</th>\n      <td>UA MegaBox</td>\n      <td>UA MegaBox</td>\n      <td>Level 11, MegaBox, Enterprise Square 5, 38 Wan...</td>\n      <td>22.319533</td>\n      <td>114.208555</td>\n    </tr>\n  </tbody>\n</table>\n</div>",
                        "text/plain": "                                                 Name  \\\n5                 Cinema City VICTORIA (Causeway Bay)   \n6   Diamond Suite VIP House @ Cinema City VICTORIA...   \n28                                   The Grand Cinema   \n29                             The Grand SC Starsuite   \n0            Emperor Cinemas - Entertainment Building   \n1   The Coronet @ Emperor Cinemas - Entertainment ...   \n43                              BEA IMAX @ UA iSQUARE   \n46                          Phoenix Club @ UA iSQUARE   \n49                                         UA iSQUARE   \n42                            BEA IMAX @ UA Cine Moko   \n48                                       UA Cine Moko   \n44                              BEA IMAX @ UA MegaBox   \n45                       BEA Oscars Club @ UA MegaBox   \n51                                         UA MegaBox   \n\n                                              ChiName  \\\n5                          Cinema City VICTORIA (\u9285\u947c\u7063)   \n6   Diamond Suite VIP House @ Cinema City VICTORIA...   \n28                                   The Grand Cinema   \n29                             The Grand SC Starsuite   \n0                                          \u82f1\u7687\u6232\u9662 - \u5a1b\u6a02\u884c   \n1                            The Coronet @ \u82f1\u7687\u6232\u9662 - \u5a1b\u6a02\u884c   \n43                              BEA IMAX @ UA iSQUARE   \n46                                  \u9cef\u51f0\u5f71\u9662 @ UA iSQUARE   \n49                                         UA iSQUARE   \n42                            BEA IMAX @ UA Cine Moko   \n48                                       UA Cine Moko   \n44                              BEA IMAX @ UA MegaBox   \n45                       BEA Oscars Club @ UA MegaBox   \n51                                         UA MegaBox   \n\n                                              Address   Latitude   Longitude  \n5           2-8 Sugar Street, Causeway Bay, Hong Kong  22.279805  114.187126  \n6           2-8 Sugar Street, Causeway Bay, Hong Kong  22.279805  114.187126  \n28         2/F, Elements, 1 Austin Road West, Kowloon  22.304118  114.161466  \n29         2/F, Elements, 1 Austin Road West, Kowloon  22.304118  114.161466  \n0   3/F, Emperor Cinemas Entertainment Building, 3...  22.281453  114.154230  \n1   3/F, Emperor Cinemas Entertainment Building, 3...  22.281453  114.154230  \n43          7/F, iSQUARE, 63 Nathan Road, Tsimshatsui  22.296648  114.171974  \n46          7/F, iSQUARE, 63 Nathan Road, Tsimshatsui  22.296648  114.171974  \n49          7/F, iSQUARE, 63 Nathan Road, Tsimshatsui  22.296648  114.171974  \n42  L4, MOKO, 193 Prince Edward Road West, Mongkok...  22.323800  114.172000  \n48  L4, MOKO, 193 Prince Edward Road West, Mongkok...  22.323800  114.172000  \n44  Level 11, MegaBox, Enterprise Square 5, 38 Wan...  22.319533  114.208555  \n45  Level 11, MegaBox, Enterprise Square 5, 38 Wan...  22.319533  114.208555  \n51  Level 11, MegaBox, Enterprise Square 5, 38 Wan...  22.319533  114.208555  "
                    },
                    "execution_count": 25,
                    "metadata": {},
                    "output_type": "execute_result"
                }
            ],
            "source": "duplicated = df_cinemas.duplicated('Address', keep=False)\ndf_cinemas[duplicated].sort_values('Address')"
        },
        {
            "cell_type": "markdown",
            "metadata": {},
            "source": "Some \"special house\" in cinema are separated as a new cinema in www.hkmovie6.com  \nThese records are duplicated in my case and should be corrected."
        },
        {
            "cell_type": "code",
            "execution_count": 26,
            "metadata": {},
            "outputs": [],
            "source": "# The Grand SC Starsuite -> The Grand Cinema\ndf_cinemas.loc[29, 'Name'] = 'The Grand Cinema'\n\n# XXX @ UA MegaBox -> UA MegaBox\ndf_cinemas.loc[44, 'Name'] = 'UA MegaBox'\ndf_cinemas.loc[45, 'Name'] = 'UA MegaBox'\n\n# BEA IMAX @ UA Cine Moko -> UA Cine Moko\ndf_cinemas.loc[42, 'Name'] = 'UA Cine Moko'\n\n# XXX @ UA iSQUARE -> iSQUARE\ndf_cinemas.loc[43, 'Name'] = 'UA iSQUARE'\ndf_cinemas.loc[46, 'Name'] = 'UA iSQUARE'\n\n# Emperor Cinemas - Entertainment Building\ndf_cinemas.loc[1, 'Name'] = 'Emperor Cinemas - Entertainment Building'\n\n# Cinema City VICTORIA (Causeway Bay)\ndf_cinemas.loc[6, 'Name'] = 'Cinema City VICTORIA (Causeway Bay)'"
        },
        {
            "cell_type": "code",
            "execution_count": 27,
            "metadata": {},
            "outputs": [
                {
                    "data": {
                        "text/html": "<div>\n<style scoped>\n    .dataframe tbody tr th:only-of-type {\n        vertical-align: middle;\n    }\n\n    .dataframe tbody tr th {\n        vertical-align: top;\n    }\n\n    .dataframe thead th {\n        text-align: right;\n    }\n</style>\n<table border=\"1\" class=\"dataframe\">\n  <thead>\n    <tr style=\"text-align: right;\">\n      <th></th>\n      <th>Name</th>\n      <th>ChiName</th>\n      <th>Address</th>\n      <th>Latitude</th>\n      <th>Longitude</th>\n    </tr>\n  </thead>\n  <tbody>\n    <tr>\n      <th>0</th>\n      <td>Emperor Cinemas - Entertainment Building</td>\n      <td>\u82f1\u7687\u6232\u9662 - \u5a1b\u6a02\u884c</td>\n      <td>3/F, Emperor Cinemas Entertainment Building, 3...</td>\n      <td>22.281453</td>\n      <td>114.154230</td>\n    </tr>\n    <tr>\n      <th>1</th>\n      <td>Emperor Cinemas - Entertainment Building</td>\n      <td>The Coronet @ \u82f1\u7687\u6232\u9662 - \u5a1b\u6a02\u884c</td>\n      <td>3/F, Emperor Cinemas Entertainment Building, 3...</td>\n      <td>22.281453</td>\n      <td>114.154230</td>\n    </tr>\n    <tr>\n      <th>5</th>\n      <td>Cinema City VICTORIA (Causeway Bay)</td>\n      <td>Cinema City VICTORIA (\u9285\u947c\u7063)</td>\n      <td>2-8 Sugar Street, Causeway Bay, Hong Kong</td>\n      <td>22.279805</td>\n      <td>114.187126</td>\n    </tr>\n    <tr>\n      <th>6</th>\n      <td>Cinema City VICTORIA (Causeway Bay)</td>\n      <td>Diamond Suite VIP House @ Cinema City VICTORIA...</td>\n      <td>2-8 Sugar Street, Causeway Bay, Hong Kong</td>\n      <td>22.279805</td>\n      <td>114.187126</td>\n    </tr>\n    <tr>\n      <th>28</th>\n      <td>The Grand Cinema</td>\n      <td>The Grand Cinema</td>\n      <td>2/F, Elements, 1 Austin Road West, Kowloon</td>\n      <td>22.304118</td>\n      <td>114.161466</td>\n    </tr>\n    <tr>\n      <th>29</th>\n      <td>The Grand Cinema</td>\n      <td>The Grand SC Starsuite</td>\n      <td>2/F, Elements, 1 Austin Road West, Kowloon</td>\n      <td>22.304118</td>\n      <td>114.161466</td>\n    </tr>\n    <tr>\n      <th>42</th>\n      <td>UA Cine Moko</td>\n      <td>BEA IMAX @ UA Cine Moko</td>\n      <td>L4, MOKO, 193 Prince Edward Road West, Mongkok...</td>\n      <td>22.323800</td>\n      <td>114.172000</td>\n    </tr>\n    <tr>\n      <th>43</th>\n      <td>UA iSQUARE</td>\n      <td>BEA IMAX @ UA iSQUARE</td>\n      <td>7/F, iSQUARE, 63 Nathan Road, Tsimshatsui</td>\n      <td>22.296648</td>\n      <td>114.171974</td>\n    </tr>\n    <tr>\n      <th>44</th>\n      <td>UA MegaBox</td>\n      <td>BEA IMAX @ UA MegaBox</td>\n      <td>Level 11, MegaBox, Enterprise Square 5, 38 Wan...</td>\n      <td>22.319533</td>\n      <td>114.208555</td>\n    </tr>\n    <tr>\n      <th>45</th>\n      <td>UA MegaBox</td>\n      <td>BEA Oscars Club @ UA MegaBox</td>\n      <td>Level 11, MegaBox, Enterprise Square 5, 38 Wan...</td>\n      <td>22.319533</td>\n      <td>114.208555</td>\n    </tr>\n    <tr>\n      <th>46</th>\n      <td>UA iSQUARE</td>\n      <td>\u9cef\u51f0\u5f71\u9662 @ UA iSQUARE</td>\n      <td>7/F, iSQUARE, 63 Nathan Road, Tsimshatsui</td>\n      <td>22.296648</td>\n      <td>114.171974</td>\n    </tr>\n    <tr>\n      <th>48</th>\n      <td>UA Cine Moko</td>\n      <td>UA Cine Moko</td>\n      <td>L4, MOKO, 193 Prince Edward Road West, Mongkok...</td>\n      <td>22.323800</td>\n      <td>114.172000</td>\n    </tr>\n    <tr>\n      <th>49</th>\n      <td>UA iSQUARE</td>\n      <td>UA iSQUARE</td>\n      <td>7/F, iSQUARE, 63 Nathan Road, Tsimshatsui</td>\n      <td>22.296648</td>\n      <td>114.171974</td>\n    </tr>\n    <tr>\n      <th>51</th>\n      <td>UA MegaBox</td>\n      <td>UA MegaBox</td>\n      <td>Level 11, MegaBox, Enterprise Square 5, 38 Wan...</td>\n      <td>22.319533</td>\n      <td>114.208555</td>\n    </tr>\n  </tbody>\n</table>\n</div>",
                        "text/plain": "                                        Name  \\\n0   Emperor Cinemas - Entertainment Building   \n1   Emperor Cinemas - Entertainment Building   \n5        Cinema City VICTORIA (Causeway Bay)   \n6        Cinema City VICTORIA (Causeway Bay)   \n28                          The Grand Cinema   \n29                          The Grand Cinema   \n42                              UA Cine Moko   \n43                                UA iSQUARE   \n44                                UA MegaBox   \n45                                UA MegaBox   \n46                                UA iSQUARE   \n48                              UA Cine Moko   \n49                                UA iSQUARE   \n51                                UA MegaBox   \n\n                                              ChiName  \\\n0                                          \u82f1\u7687\u6232\u9662 - \u5a1b\u6a02\u884c   \n1                            The Coronet @ \u82f1\u7687\u6232\u9662 - \u5a1b\u6a02\u884c   \n5                          Cinema City VICTORIA (\u9285\u947c\u7063)   \n6   Diamond Suite VIP House @ Cinema City VICTORIA...   \n28                                   The Grand Cinema   \n29                             The Grand SC Starsuite   \n42                            BEA IMAX @ UA Cine Moko   \n43                              BEA IMAX @ UA iSQUARE   \n44                              BEA IMAX @ UA MegaBox   \n45                       BEA Oscars Club @ UA MegaBox   \n46                                  \u9cef\u51f0\u5f71\u9662 @ UA iSQUARE   \n48                                       UA Cine Moko   \n49                                         UA iSQUARE   \n51                                         UA MegaBox   \n\n                                              Address   Latitude   Longitude  \n0   3/F, Emperor Cinemas Entertainment Building, 3...  22.281453  114.154230  \n1   3/F, Emperor Cinemas Entertainment Building, 3...  22.281453  114.154230  \n5           2-8 Sugar Street, Causeway Bay, Hong Kong  22.279805  114.187126  \n6           2-8 Sugar Street, Causeway Bay, Hong Kong  22.279805  114.187126  \n28         2/F, Elements, 1 Austin Road West, Kowloon  22.304118  114.161466  \n29         2/F, Elements, 1 Austin Road West, Kowloon  22.304118  114.161466  \n42  L4, MOKO, 193 Prince Edward Road West, Mongkok...  22.323800  114.172000  \n43          7/F, iSQUARE, 63 Nathan Road, Tsimshatsui  22.296648  114.171974  \n44  Level 11, MegaBox, Enterprise Square 5, 38 Wan...  22.319533  114.208555  \n45  Level 11, MegaBox, Enterprise Square 5, 38 Wan...  22.319533  114.208555  \n46          7/F, iSQUARE, 63 Nathan Road, Tsimshatsui  22.296648  114.171974  \n48  L4, MOKO, 193 Prince Edward Road West, Mongkok...  22.323800  114.172000  \n49          7/F, iSQUARE, 63 Nathan Road, Tsimshatsui  22.296648  114.171974  \n51  Level 11, MegaBox, Enterprise Square 5, 38 Wan...  22.319533  114.208555  "
                    },
                    "execution_count": 27,
                    "metadata": {},
                    "output_type": "execute_result"
                }
            ],
            "source": "df_cinemas[duplicated]"
        },
        {
            "cell_type": "code",
            "execution_count": 28,
            "metadata": {},
            "outputs": [],
            "source": "df_cinemas.drop_duplicates('Address', inplace=True, keep='first')"
        },
        {
            "cell_type": "markdown",
            "metadata": {},
            "source": "Drop the duplicated cinema records"
        },
        {
            "cell_type": "code",
            "execution_count": 29,
            "metadata": {},
            "outputs": [
                {
                    "data": {
                        "text/html": "<div>\n<style scoped>\n    .dataframe tbody tr th:only-of-type {\n        vertical-align: middle;\n    }\n\n    .dataframe tbody tr th {\n        vertical-align: top;\n    }\n\n    .dataframe thead th {\n        text-align: right;\n    }\n</style>\n<table border=\"1\" class=\"dataframe\">\n  <thead>\n    <tr style=\"text-align: right;\">\n      <th></th>\n      <th>Name</th>\n      <th>ChiName</th>\n      <th>Address</th>\n      <th>Latitude</th>\n      <th>Longitude</th>\n    </tr>\n  </thead>\n  <tbody>\n  </tbody>\n</table>\n</div>",
                        "text/plain": "Empty DataFrame\nColumns: [Name, ChiName, Address, Latitude, Longitude]\nIndex: []"
                    },
                    "execution_count": 29,
                    "metadata": {},
                    "output_type": "execute_result"
                }
            ],
            "source": "df_cinemas[df_cinemas.duplicated('Name')]"
        },
        {
            "cell_type": "code",
            "execution_count": 30,
            "metadata": {},
            "outputs": [
                {
                    "data": {
                        "text/html": "<div>\n<style scoped>\n    .dataframe tbody tr th:only-of-type {\n        vertical-align: middle;\n    }\n\n    .dataframe tbody tr th {\n        vertical-align: top;\n    }\n\n    .dataframe thead th {\n        text-align: right;\n    }\n</style>\n<table border=\"1\" class=\"dataframe\">\n  <thead>\n    <tr style=\"text-align: right;\">\n      <th></th>\n      <th>Name</th>\n      <th>ChiName</th>\n      <th>Address</th>\n      <th>Latitude</th>\n      <th>Longitude</th>\n    </tr>\n  </thead>\n  <tbody>\n    <tr>\n      <th>0</th>\n      <td>Emperor Cinemas - Entertainment Building</td>\n      <td>\u82f1\u7687\u6232\u9662 - \u5a1b\u6a02\u884c</td>\n      <td>3/F, Emperor Cinemas Entertainment Building, 3...</td>\n      <td>22.281453</td>\n      <td>114.154230</td>\n    </tr>\n    <tr>\n      <th>2</th>\n      <td>Emperor Cinemas - Tuen Mun</td>\n      <td>\u82f1\u7687\u6232\u9662 - \u5c6f\u9580\u65b0\u90fd\u5546\u5834</td>\n      <td>3/F, New Town Commercial Arcade, 2 Tuen Lee St...</td>\n      <td>22.390776</td>\n      <td>113.975983</td>\n    </tr>\n    <tr>\n      <th>3</th>\n      <td>Broadway Circuit - CYBERPORT</td>\n      <td>\u767e\u8001\u532f\u6232\u9662 - \u6578\u78bc\u6e2f</td>\n      <td>Shop L1 - 3, Level 1, The Arcade, 100 Cyberpor...</td>\n      <td>22.261067</td>\n      <td>114.129825</td>\n    </tr>\n    <tr>\n      <th>4</th>\n      <td>Broadway Circuit - PALACE IFC</td>\n      <td>\u767e\u8001\u532f\u6232\u9662 - PALACE IFC</td>\n      <td>Podium L1, IFC Mall, 8 Finance Street, Central</td>\n      <td>22.285545</td>\n      <td>114.157979</td>\n    </tr>\n    <tr>\n      <th>5</th>\n      <td>Cinema City VICTORIA (Causeway Bay)</td>\n      <td>Cinema City VICTORIA (\u9285\u947c\u7063)</td>\n      <td>2-8 Sugar Street, Causeway Bay, Hong Kong</td>\n      <td>22.279805</td>\n      <td>114.187126</td>\n    </tr>\n  </tbody>\n</table>\n</div>",
                        "text/plain": "                                       Name                     ChiName  \\\n0  Emperor Cinemas - Entertainment Building                  \u82f1\u7687\u6232\u9662 - \u5a1b\u6a02\u884c   \n2                Emperor Cinemas - Tuen Mun               \u82f1\u7687\u6232\u9662 - \u5c6f\u9580\u65b0\u90fd\u5546\u5834   \n3              Broadway Circuit - CYBERPORT                 \u767e\u8001\u532f\u6232\u9662 - \u6578\u78bc\u6e2f   \n4             Broadway Circuit - PALACE IFC          \u767e\u8001\u532f\u6232\u9662 - PALACE IFC   \n5       Cinema City VICTORIA (Causeway Bay)  Cinema City VICTORIA (\u9285\u947c\u7063)   \n\n                                             Address   Latitude   Longitude  \n0  3/F, Emperor Cinemas Entertainment Building, 3...  22.281453  114.154230  \n2  3/F, New Town Commercial Arcade, 2 Tuen Lee St...  22.390776  113.975983  \n3  Shop L1 - 3, Level 1, The Arcade, 100 Cyberpor...  22.261067  114.129825  \n4     Podium L1, IFC Mall, 8 Finance Street, Central  22.285545  114.157979  \n5          2-8 Sugar Street, Causeway Bay, Hong Kong  22.279805  114.187126  "
                    },
                    "execution_count": 30,
                    "metadata": {},
                    "output_type": "execute_result"
                }
            ],
            "source": "df_cinemas.head()"
        },
        {
            "cell_type": "code",
            "execution_count": 31,
            "metadata": {},
            "outputs": [
                {
                    "data": {
                        "text/html": "<div>\n<style scoped>\n    .dataframe tbody tr th:only-of-type {\n        vertical-align: middle;\n    }\n\n    .dataframe tbody tr th {\n        vertical-align: top;\n    }\n\n    .dataframe thead th {\n        text-align: right;\n    }\n</style>\n<table border=\"1\" class=\"dataframe\">\n  <thead>\n    <tr style=\"text-align: right;\">\n      <th></th>\n      <th>ChiName</th>\n    </tr>\n  </thead>\n  <tbody>\n    <tr>\n      <th>0</th>\n      <td>\u82f1\u7687\u6232\u9662 - \u5a1b\u6a02\u884c</td>\n    </tr>\n    <tr>\n      <th>2</th>\n      <td>\u82f1\u7687\u6232\u9662 - \u5c6f\u9580\u65b0\u90fd\u5546\u5834</td>\n    </tr>\n    <tr>\n      <th>3</th>\n      <td>\u767e\u8001\u532f\u6232\u9662 - \u6578\u78bc\u6e2f</td>\n    </tr>\n    <tr>\n      <th>4</th>\n      <td>\u767e\u8001\u532f\u6232\u9662 - PALACE IFC</td>\n    </tr>\n    <tr>\n      <th>5</th>\n      <td>Cinema City VICTORIA (\u9285\u947c\u7063)</td>\n    </tr>\n    <tr>\n      <th>7</th>\n      <td>\u767e\u8001\u532f\u6232\u9662 - \u96fb\u5f71\u4e2d\u5fc3</td>\n    </tr>\n    <tr>\n      <th>8</th>\n      <td>\u767e\u8001\u532f\u6232\u9662 - \u8377\u91cc\u6d3b</td>\n    </tr>\n    <tr>\n      <th>9</th>\n      <td>\u767e\u8001\u532f\u6232\u9662 - \u65fa\u89d2</td>\n    </tr>\n    <tr>\n      <th>10</th>\n      <td>\u767e\u8001\u532f\u6232\u9662 - MOViE MOViE Cityplaza</td>\n    </tr>\n    <tr>\n      <th>11</th>\n      <td>\u767e\u8001\u532f\u6232\u9662 - PALACE apm</td>\n    </tr>\n    <tr>\n      <th>12</th>\n      <td>\u767e\u8001\u532f\u6232\u9662 - The ONE</td>\n    </tr>\n    <tr>\n      <th>13</th>\n      <td>\u767e\u8001\u532f\u6232\u9662 - \u5609\u6e56\u9280\u5ea7</td>\n    </tr>\n    <tr>\n      <th>14</th>\n      <td>\u767e\u8001\u532f\u6232\u9662 - \u8475\u82b3</td>\n    </tr>\n    <tr>\n      <th>15</th>\n      <td>\u767e\u8001\u532f\u6232\u9662 - MY CINEMA YOHO MALL</td>\n    </tr>\n    <tr>\n      <th>16</th>\n      <td>\u767e\u8001\u532f\u6232\u9662 - \u8343\u7063</td>\n    </tr>\n    <tr>\n      <th>17</th>\n      <td>AMC Pacific Place</td>\n    </tr>\n    <tr>\n      <th>18</th>\n      <td>\u5eb7\u6021\u6232\u9662</td>\n    </tr>\n    <tr>\n      <th>19</th>\n      <td>\u7687\u5ba4\u6232\u9662</td>\n    </tr>\n    <tr>\n      <th>20</th>\n      <td>MCL \u7c89\u5dba\u6232\u9662</td>\n    </tr>\n    <tr>\n      <th>21</th>\n      <td>MCL \u6d77\u6021\u6232\u9662</td>\n    </tr>\n    <tr>\n      <th>22</th>\n      <td>MOVIE TOWN - \u65b0\u57ce\u5e02\u5ee3\u5834</td>\n    </tr>\n    <tr>\n      <th>23</th>\n      <td>MCL \u5fb7\u798f</td>\n    </tr>\n    <tr>\n      <th>24</th>\n      <td>Festival Grand Cinema</td>\n    </tr>\n    <tr>\n      <th>25</th>\n      <td>CGV Cinemas D2 Place</td>\n    </tr>\n    <tr>\n      <th>26</th>\n      <td>MCL \u65b0\u90fd\u57ce\u6232\u9662</td>\n    </tr>\n    <tr>\n      <th>27</th>\n      <td>STAR Cinema</td>\n    </tr>\n    <tr>\n      <th>28</th>\n      <td>The Grand Cinema</td>\n    </tr>\n    <tr>\n      <th>30</th>\n      <td>\u5609\u79be\u7c89\u5dba</td>\n    </tr>\n    <tr>\n      <th>31</th>\n      <td>\u5609\u79be\u9ec3\u57d4</td>\n    </tr>\n    <tr>\n      <th>32</th>\n      <td>\u6d77\u904b\u6232\u9662</td>\n    </tr>\n    <tr>\n      <th>33</th>\n      <td>StagE</td>\n    </tr>\n    <tr>\n      <th>34</th>\n      <td>the sky (\u5967\u6d77\u57ce)</td>\n    </tr>\n    <tr>\n      <th>35</th>\n      <td>\u5609\u79be\u8343\u65b0\u5929\u5730</td>\n    </tr>\n    <tr>\n      <th>36</th>\n      <td>\u661f\u5f71\u532f</td>\n    </tr>\n    <tr>\n      <th>37</th>\n      <td>CANDY PARK BY CINEMA CITY (\u6109\u666f\u65b0\u57ce)</td>\n    </tr>\n    <tr>\n      <th>38</th>\n      <td>Cinema City \u67f4\u7063</td>\n    </tr>\n    <tr>\n      <th>39</th>\n      <td>Cinema City JP</td>\n    </tr>\n    <tr>\n      <th>40</th>\n      <td>Cinema City \u6717\u8c6a\u574a</td>\n    </tr>\n    <tr>\n      <th>41</th>\n      <td>UA Cine Times</td>\n    </tr>\n    <tr>\n      <th>42</th>\n      <td>BEA IMAX @ UA Cine Moko</td>\n    </tr>\n    <tr>\n      <th>43</th>\n      <td>BEA IMAX @ UA iSQUARE</td>\n    </tr>\n    <tr>\n      <th>44</th>\n      <td>BEA IMAX @ UA MegaBox</td>\n    </tr>\n    <tr>\n      <th>47</th>\n      <td>UA \u6dd8\u5927</td>\n    </tr>\n    <tr>\n      <th>50</th>\n      <td>UA \u9752\u8863\u57ce</td>\n    </tr>\n    <tr>\n      <th>52</th>\n      <td>\u6a5f\u5834UA IMAX \u5f71\u9662</td>\n    </tr>\n    <tr>\n      <th>53</th>\n      <td>\u7e3d\u7d71</td>\n    </tr>\n    <tr>\n      <th>54</th>\n      <td>\u8c6a\u83ef</td>\n    </tr>\n    <tr>\n      <th>55</th>\n      <td>\u65b0\u5bf6</td>\n    </tr>\n    <tr>\n      <th>56</th>\n      <td>\u9999\u6e2f\u79d1\u5b78\u9928\u6f14\u8b1b\u5ef3</td>\n    </tr>\n    <tr>\n      <th>57</th>\n      <td>\u51f1\u90fd</td>\n    </tr>\n    <tr>\n      <th>58</th>\n      <td>\u5df4\u9ece\u502b\u6566\u7d10\u7d04\u7c73\u862d\u6232\u9662</td>\n    </tr>\n    <tr>\n      <th>59</th>\n      <td>\u5143\u6717\u6232\u9662</td>\n    </tr>\n    <tr>\n      <th>60</th>\n      <td>\u99ac\u978d\u5c71\u6232\u9662</td>\n    </tr>\n    <tr>\n      <th>61</th>\n      <td>L Cinema Shau Kei Wan</td>\n    </tr>\n    <tr>\n      <th>62</th>\n      <td>\u9952\u9928\u65b0\u4e00\u5929\u9662\u7dda</td>\n    </tr>\n    <tr>\n      <th>63</th>\n      <td>\u9999\u6e2f\u85dd\u8853\u4e2d\u5fc3\u53e4\u5929\u6a02\u96fb\u5f71\u9662</td>\n    </tr>\n    <tr>\n      <th>64</th>\n      <td>\u5bf6\u77f3\u6232\u9662</td>\n    </tr>\n    <tr>\n      <th>65</th>\n      <td>\u65b0\u5149\u6232\u9662\u5927\u5287\u5834</td>\n    </tr>\n    <tr>\n      <th>66</th>\n      <td>Super 3 \u5f71\u9662</td>\n    </tr>\n    <tr>\n      <th>67</th>\n      <td>\u5927\u9928</td>\n    </tr>\n  </tbody>\n</table>\n</div>",
                        "text/plain": "                             ChiName\n0                         \u82f1\u7687\u6232\u9662 - \u5a1b\u6a02\u884c\n2                      \u82f1\u7687\u6232\u9662 - \u5c6f\u9580\u65b0\u90fd\u5546\u5834\n3                        \u767e\u8001\u532f\u6232\u9662 - \u6578\u78bc\u6e2f\n4                 \u767e\u8001\u532f\u6232\u9662 - PALACE IFC\n5         Cinema City VICTORIA (\u9285\u947c\u7063)\n7                       \u767e\u8001\u532f\u6232\u9662 - \u96fb\u5f71\u4e2d\u5fc3\n8                        \u767e\u8001\u532f\u6232\u9662 - \u8377\u91cc\u6d3b\n9                         \u767e\u8001\u532f\u6232\u9662 - \u65fa\u89d2\n10     \u767e\u8001\u532f\u6232\u9662 - MOViE MOViE Cityplaza\n11                \u767e\u8001\u532f\u6232\u9662 - PALACE apm\n12                   \u767e\u8001\u532f\u6232\u9662 - The ONE\n13                      \u767e\u8001\u532f\u6232\u9662 - \u5609\u6e56\u9280\u5ea7\n14                        \u767e\u8001\u532f\u6232\u9662 - \u8475\u82b3\n15       \u767e\u8001\u532f\u6232\u9662 - MY CINEMA YOHO MALL\n16                        \u767e\u8001\u532f\u6232\u9662 - \u8343\u7063\n17                 AMC Pacific Place\n18                              \u5eb7\u6021\u6232\u9662\n19                              \u7687\u5ba4\u6232\u9662\n20                          MCL \u7c89\u5dba\u6232\u9662\n21                          MCL \u6d77\u6021\u6232\u9662\n22                MOVIE TOWN - \u65b0\u57ce\u5e02\u5ee3\u5834\n23                            MCL \u5fb7\u798f\n24             Festival Grand Cinema\n25              CGV Cinemas D2 Place\n26                         MCL \u65b0\u90fd\u57ce\u6232\u9662\n27                       STAR Cinema\n28                  The Grand Cinema\n30                              \u5609\u79be\u7c89\u5dba\n31                              \u5609\u79be\u9ec3\u57d4\n32                              \u6d77\u904b\u6232\u9662\n33                             StagE\n34                     the sky (\u5967\u6d77\u57ce)\n35                            \u5609\u79be\u8343\u65b0\u5929\u5730\n36                               \u661f\u5f71\u532f\n37  CANDY PARK BY CINEMA CITY (\u6109\u666f\u65b0\u57ce)\n38                    Cinema City \u67f4\u7063\n39                    Cinema City JP\n40                   Cinema City \u6717\u8c6a\u574a\n41                     UA Cine Times\n42           BEA IMAX @ UA Cine Moko\n43             BEA IMAX @ UA iSQUARE\n44             BEA IMAX @ UA MegaBox\n47                             UA \u6dd8\u5927\n50                            UA \u9752\u8863\u57ce\n52                      \u6a5f\u5834UA IMAX \u5f71\u9662\n53                                \u7e3d\u7d71\n54                                \u8c6a\u83ef\n55                                \u65b0\u5bf6\n56                          \u9999\u6e2f\u79d1\u5b78\u9928\u6f14\u8b1b\u5ef3\n57                                \u51f1\u90fd\n58                        \u5df4\u9ece\u502b\u6566\u7d10\u7d04\u7c73\u862d\u6232\u9662\n59                              \u5143\u6717\u6232\u9662\n60                             \u99ac\u978d\u5c71\u6232\u9662\n61             L Cinema Shau Kei Wan\n62                           \u9952\u9928\u65b0\u4e00\u5929\u9662\u7dda\n63                      \u9999\u6e2f\u85dd\u8853\u4e2d\u5fc3\u53e4\u5929\u6a02\u96fb\u5f71\u9662\n64                              \u5bf6\u77f3\u6232\u9662\n65                           \u65b0\u5149\u6232\u9662\u5927\u5287\u5834\n66                        Super 3 \u5f71\u9662\n67                                \u5927\u9928"
                    },
                    "execution_count": 31,
                    "metadata": {},
                    "output_type": "execute_result"
                }
            ],
            "source": "df_cinemas['ChiName'].to_frame()"
        },
        {
            "cell_type": "markdown",
            "metadata": {},
            "source": "Cinema '\u65b0\u5149\u6232\u9662\u5927\u5287\u5834' and '\u5927\u9928' should be considered as cinema in Hong Kong. These records must be rmeoved"
        },
        {
            "cell_type": "code",
            "execution_count": 32,
            "metadata": {},
            "outputs": [],
            "source": "df_cinemas.drop(index=[65,67], inplace=True)"
        },
        {
            "cell_type": "code",
            "execution_count": 33,
            "metadata": {},
            "outputs": [],
            "source": "df_cinemas.drop(axis=1, columns=['ChiName'], inplace=True)"
        },
        {
            "cell_type": "code",
            "execution_count": 34,
            "metadata": {},
            "outputs": [
                {
                    "data": {
                        "text/html": "<div>\n<style scoped>\n    .dataframe tbody tr th:only-of-type {\n        vertical-align: middle;\n    }\n\n    .dataframe tbody tr th {\n        vertical-align: top;\n    }\n\n    .dataframe thead th {\n        text-align: right;\n    }\n</style>\n<table border=\"1\" class=\"dataframe\">\n  <thead>\n    <tr style=\"text-align: right;\">\n      <th></th>\n      <th>Name</th>\n      <th>Address</th>\n      <th>Latitude</th>\n      <th>Longitude</th>\n    </tr>\n  </thead>\n  <tbody>\n    <tr>\n      <th>0</th>\n      <td>Emperor Cinemas - Entertainment Building</td>\n      <td>3/F, Emperor Cinemas Entertainment Building, 3...</td>\n      <td>22.281453</td>\n      <td>114.154230</td>\n    </tr>\n    <tr>\n      <th>2</th>\n      <td>Emperor Cinemas - Tuen Mun</td>\n      <td>3/F, New Town Commercial Arcade, 2 Tuen Lee St...</td>\n      <td>22.390776</td>\n      <td>113.975983</td>\n    </tr>\n    <tr>\n      <th>3</th>\n      <td>Broadway Circuit - CYBERPORT</td>\n      <td>Shop L1 - 3, Level 1, The Arcade, 100 Cyberpor...</td>\n      <td>22.261067</td>\n      <td>114.129825</td>\n    </tr>\n    <tr>\n      <th>4</th>\n      <td>Broadway Circuit - PALACE IFC</td>\n      <td>Podium L1, IFC Mall, 8 Finance Street, Central</td>\n      <td>22.285545</td>\n      <td>114.157979</td>\n    </tr>\n    <tr>\n      <th>5</th>\n      <td>Cinema City VICTORIA (Causeway Bay)</td>\n      <td>2-8 Sugar Street, Causeway Bay, Hong Kong</td>\n      <td>22.279805</td>\n      <td>114.187126</td>\n    </tr>\n  </tbody>\n</table>\n</div>",
                        "text/plain": "                                       Name  \\\n0  Emperor Cinemas - Entertainment Building   \n2                Emperor Cinemas - Tuen Mun   \n3              Broadway Circuit - CYBERPORT   \n4             Broadway Circuit - PALACE IFC   \n5       Cinema City VICTORIA (Causeway Bay)   \n\n                                             Address   Latitude   Longitude  \n0  3/F, Emperor Cinemas Entertainment Building, 3...  22.281453  114.154230  \n2  3/F, New Town Commercial Arcade, 2 Tuen Lee St...  22.390776  113.975983  \n3  Shop L1 - 3, Level 1, The Arcade, 100 Cyberpor...  22.261067  114.129825  \n4     Podium L1, IFC Mall, 8 Finance Street, Central  22.285545  114.157979  \n5          2-8 Sugar Street, Causeway Bay, Hong Kong  22.279805  114.187126  "
                    },
                    "execution_count": 34,
                    "metadata": {},
                    "output_type": "execute_result"
                }
            ],
            "source": "df_cinemas.head()"
        },
        {
            "cell_type": "markdown",
            "metadata": {},
            "source": "Check the shape of cinemas dataset"
        },
        {
            "cell_type": "code",
            "execution_count": 35,
            "metadata": {},
            "outputs": [
                {
                    "data": {
                        "text/plain": "(58, 4)"
                    },
                    "execution_count": 35,
                    "metadata": {},
                    "output_type": "execute_result"
                }
            ],
            "source": "df_cinemas.shape"
        },
        {
            "cell_type": "markdown",
            "metadata": {},
            "source": "Now I can use the FourSquare API to explore nearby venues of Hong Kong cinemas"
        },
        {
            "cell_type": "code",
            "execution_count": 36,
            "metadata": {},
            "outputs": [],
            "source": "from pathlib import Path\n\nvenues_csv = Path('./cinemas_venues.csv')\ndf_venues = None\n\n# check the venues data is explored and downloaded \nif( venues_csv.exists() ):\n    df_venues = pd.read_csv('./cinemas_venues.csv')\nelse:    \n    # construct a dataframe to store data\n    df_venues = pd.DataFrame(columns=['Cinema Name', 'Category', 'Name', 'Latitude', 'Longitude', 'Tips', 'Users', 'Visits'])\n    for (name, address, latitude, longitude) in df_cinemas.itertuples(index=False):\n        for cat, cat_id in fs_categories.items():\n            df = venues_nearby(latitude, longitude, cat, verbose=False)\n            df['Cinema Name'] = name\n            df['Category'] = cat\n            df_venues = df_venues.append(df, sort=True)\n    df_venues.to_csv('cinemas_venues.csv', index=False)"
        },
        {
            "cell_type": "code",
            "execution_count": 37,
            "metadata": {},
            "outputs": [
                {
                    "name": "stdout",
                    "output_type": "stream",
                    "text": "Total 2223 of venues are found\n"
                }
            ],
            "source": "print('Total {} of venues are found'.format(len(df_venues)))"
        },
        {
            "cell_type": "code",
            "execution_count": 38,
            "metadata": {},
            "outputs": [
                {
                    "data": {
                        "text/plain": "(2223, 8)"
                    },
                    "execution_count": 38,
                    "metadata": {},
                    "output_type": "execute_result"
                }
            ],
            "source": "# check the shape of data\ndf_venues.shape"
        },
        {
            "cell_type": "code",
            "execution_count": 39,
            "metadata": {},
            "outputs": [
                {
                    "data": {
                        "text/html": "<div>\n<style scoped>\n    .dataframe tbody tr th:only-of-type {\n        vertical-align: middle;\n    }\n\n    .dataframe tbody tr th {\n        vertical-align: top;\n    }\n\n    .dataframe thead th {\n        text-align: right;\n    }\n</style>\n<table border=\"1\" class=\"dataframe\">\n  <thead>\n    <tr style=\"text-align: right;\">\n      <th></th>\n      <th>Category</th>\n      <th>Cinema Name</th>\n      <th>Latitude</th>\n      <th>Longitude</th>\n      <th>Name</th>\n      <th>Tips</th>\n      <th>Users</th>\n      <th>Visits</th>\n    </tr>\n  </thead>\n  <tbody>\n    <tr>\n      <th>0</th>\n      <td>Food</td>\n      <td>Emperor Cinemas - Entertainment Building</td>\n      <td>22.282921</td>\n      <td>114.154651</td>\n      <td>Mana! Fast Slow Food</td>\n      <td>0</td>\n      <td>0</td>\n      <td>0</td>\n    </tr>\n    <tr>\n      <th>1</th>\n      <td>Food</td>\n      <td>Emperor Cinemas - Entertainment Building</td>\n      <td>22.281165</td>\n      <td>114.155296</td>\n      <td>Good Luck Thai Food (\u9d3b\u904b\u6cf0\u570b\u7f8e\u98df)</td>\n      <td>0</td>\n      <td>0</td>\n      <td>0</td>\n    </tr>\n    <tr>\n      <th>2</th>\n      <td>Food</td>\n      <td>Emperor Cinemas - Entertainment Building</td>\n      <td>22.281668</td>\n      <td>114.152495</td>\n      <td>Soul Food</td>\n      <td>0</td>\n      <td>0</td>\n      <td>0</td>\n    </tr>\n    <tr>\n      <th>3</th>\n      <td>Food</td>\n      <td>Emperor Cinemas - Entertainment Building</td>\n      <td>22.282659</td>\n      <td>114.156753</td>\n      <td>Chiu Lung Fast Food (\u662d\u9686\u7f8e\u98df)</td>\n      <td>0</td>\n      <td>0</td>\n      <td>0</td>\n    </tr>\n    <tr>\n      <th>4</th>\n      <td>Food</td>\n      <td>Emperor Cinemas - Entertainment Building</td>\n      <td>22.282521</td>\n      <td>114.156717</td>\n      <td>Sun Hing Fast Food (\u65b0\u8208\u7f8e\u98df)</td>\n      <td>0</td>\n      <td>0</td>\n      <td>0</td>\n    </tr>\n  </tbody>\n</table>\n</div>",
                        "text/plain": "  Category                               Cinema Name   Latitude   Longitude  \\\n0     Food  Emperor Cinemas - Entertainment Building  22.282921  114.154651   \n1     Food  Emperor Cinemas - Entertainment Building  22.281165  114.155296   \n2     Food  Emperor Cinemas - Entertainment Building  22.281668  114.152495   \n3     Food  Emperor Cinemas - Entertainment Building  22.282659  114.156753   \n4     Food  Emperor Cinemas - Entertainment Building  22.282521  114.156717   \n\n                           Name  Tips  Users  Visits  \n0          Mana! Fast Slow Food     0      0       0  \n1  Good Luck Thai Food (\u9d3b\u904b\u6cf0\u570b\u7f8e\u98df)     0      0       0  \n2                     Soul Food     0      0       0  \n3    Chiu Lung Fast Food (\u662d\u9686\u7f8e\u98df)     0      0       0  \n4     Sun Hing Fast Food (\u65b0\u8208\u7f8e\u98df)     0      0       0  "
                    },
                    "execution_count": 39,
                    "metadata": {},
                    "output_type": "execute_result"
                }
            ],
            "source": "# check some data\ndf_venues.head()"
        },
        {
            "cell_type": "markdown",
            "metadata": {},
            "source": "Number of venues in each category"
        },
        {
            "cell_type": "code",
            "execution_count": 40,
            "metadata": {},
            "outputs": [
                {
                    "data": {
                        "text/html": "<div>\n<style scoped>\n    .dataframe tbody tr th:only-of-type {\n        vertical-align: middle;\n    }\n\n    .dataframe tbody tr th {\n        vertical-align: top;\n    }\n\n    .dataframe thead th {\n        text-align: right;\n    }\n</style>\n<table border=\"1\" class=\"dataframe\">\n  <thead>\n    <tr style=\"text-align: right;\">\n      <th></th>\n      <th>Count</th>\n    </tr>\n  </thead>\n  <tbody>\n    <tr>\n      <th>Shop &amp; Service</th>\n      <td>874</td>\n    </tr>\n    <tr>\n      <th>Bus Stop</th>\n      <td>704</td>\n    </tr>\n    <tr>\n      <th>Food</th>\n      <td>518</td>\n    </tr>\n    <tr>\n      <th>Arts &amp; Entertainment</th>\n      <td>65</td>\n    </tr>\n    <tr>\n      <th>Metro Station</th>\n      <td>61</td>\n    </tr>\n    <tr>\n      <th>Nightlife Spot</th>\n      <td>1</td>\n    </tr>\n  </tbody>\n</table>\n</div>",
                        "text/plain": "                      Count\nShop & Service          874\nBus Stop                704\nFood                    518\nArts & Entertainment     65\nMetro Station            61\nNightlife Spot            1"
                    },
                    "execution_count": 40,
                    "metadata": {},
                    "output_type": "execute_result"
                }
            ],
            "source": "df_venues['Category'].value_counts().to_frame(name='Count')"
        },
        {
            "cell_type": "code",
            "execution_count": 41,
            "metadata": {},
            "outputs": [
                {
                    "data": {
                        "text/html": "<div>\n<style scoped>\n    .dataframe tbody tr th:only-of-type {\n        vertical-align: middle;\n    }\n\n    .dataframe tbody tr th {\n        vertical-align: top;\n    }\n\n    .dataframe thead th {\n        text-align: right;\n    }\n</style>\n<table border=\"1\" class=\"dataframe\">\n  <thead>\n    <tr style=\"text-align: right;\">\n      <th></th>\n      <th>Category</th>\n      <th>Cinema Name</th>\n      <th>Latitude</th>\n      <th>Longitude</th>\n      <th>Name</th>\n      <th>Tips</th>\n      <th>Users</th>\n      <th>Visits</th>\n    </tr>\n  </thead>\n  <tbody>\n  </tbody>\n</table>\n</div>",
                        "text/plain": "Empty DataFrame\nColumns: [Category, Cinema Name, Latitude, Longitude, Name, Tips, Users, Visits]\nIndex: []"
                    },
                    "execution_count": 41,
                    "metadata": {},
                    "output_type": "execute_result"
                }
            ],
            "source": "df_venues[(df_venues.Tips > 0)|(df_venues.Users > 0)|(df_venues.Visits > 0)]"
        },
        {
            "cell_type": "code",
            "execution_count": 42,
            "metadata": {},
            "outputs": [],
            "source": "df_venues.drop(columns=['Tips','Users','Visits'], inplace=True)"
        },
        {
            "cell_type": "code",
            "execution_count": 43,
            "metadata": {},
            "outputs": [
                {
                    "data": {
                        "text/html": "<div>\n<style scoped>\n    .dataframe tbody tr th:only-of-type {\n        vertical-align: middle;\n    }\n\n    .dataframe tbody tr th {\n        vertical-align: top;\n    }\n\n    .dataframe thead th {\n        text-align: right;\n    }\n</style>\n<table border=\"1\" class=\"dataframe\">\n  <thead>\n    <tr style=\"text-align: right;\">\n      <th></th>\n      <th>Category</th>\n      <th>Cinema Name</th>\n      <th>Latitude</th>\n      <th>Longitude</th>\n      <th>Name</th>\n    </tr>\n  </thead>\n  <tbody>\n    <tr>\n      <th>87</th>\n      <td>Nightlife Spot</td>\n      <td>Emperor Cinemas - Entertainment Building</td>\n      <td>22.282246</td>\n      <td>114.152651</td>\n      <td>The Spot Bar</td>\n    </tr>\n  </tbody>\n</table>\n</div>",
                        "text/plain": "          Category                               Cinema Name   Latitude  \\\n87  Nightlife Spot  Emperor Cinemas - Entertainment Building  22.282246   \n\n     Longitude          Name  \n87  114.152651  The Spot Bar  "
                    },
                    "execution_count": 43,
                    "metadata": {},
                    "output_type": "execute_result"
                }
            ],
            "source": "df_venues[df_venues.Category=='Nightlife Spot']"
        },
        {
            "cell_type": "code",
            "execution_count": 44,
            "metadata": {},
            "outputs": [],
            "source": "df_venues.drop(index=87, inplace=True)"
        },
        {
            "cell_type": "markdown",
            "metadata": {},
            "source": "Comapred with other categories, only one 'Nightlife Spot' venue. This category is removed."
        },
        {
            "cell_type": "code",
            "execution_count": 45,
            "metadata": {},
            "outputs": [
                {
                    "data": {
                        "text/plain": "(2222, 5)"
                    },
                    "execution_count": 45,
                    "metadata": {},
                    "output_type": "execute_result"
                }
            ],
            "source": "df_venues.shape"
        },
        {
            "cell_type": "markdown",
            "metadata": {},
            "source": "Explore nearby venues of 5 possible/target locations"
        },
        {
            "cell_type": "code",
            "execution_count": 46,
            "metadata": {},
            "outputs": [],
            "source": "df_target_venues = pd.DataFrame(columns=['Location', 'Category', 'Name', 'Latitude', 'Longitude', 'Tips', 'Users', 'Visits'])\nfor (location, address, latitude, longitude) in df_possible_locations.itertuples(index=False):\n    for cat, cat_id in fs_categories.items():\n        df = venues_nearby(latitude, longitude, cat, verbose=False)\n        df['Location'] = location\n        df['Category'] = cat\n        df_target_venues = df_target_venues.append(df, sort=True)"
        },
        {
            "cell_type": "code",
            "execution_count": 47,
            "metadata": {},
            "outputs": [
                {
                    "data": {
                        "text/html": "<div>\n<style scoped>\n    .dataframe tbody tr th:only-of-type {\n        vertical-align: middle;\n    }\n\n    .dataframe tbody tr th {\n        vertical-align: top;\n    }\n\n    .dataframe thead th {\n        text-align: right;\n    }\n</style>\n<table border=\"1\" class=\"dataframe\">\n  <thead>\n    <tr style=\"text-align: right;\">\n      <th></th>\n      <th>Category</th>\n      <th>Latitude</th>\n      <th>Location</th>\n      <th>Longitude</th>\n      <th>Name</th>\n      <th>Tips</th>\n      <th>Users</th>\n      <th>Visits</th>\n    </tr>\n  </thead>\n  <tbody>\n    <tr>\n      <th>0</th>\n      <td>Shop &amp; Service</td>\n      <td>22.319338</td>\n      <td>L1</td>\n      <td>114.231681</td>\n      <td>Sau Mau Ping Shopping Centre (\u79c0\u8302\u576a\u5546\u5834)</td>\n      <td>0</td>\n      <td>0</td>\n      <td>0</td>\n    </tr>\n    <tr>\n      <th>1</th>\n      <td>Shop &amp; Service</td>\n      <td>22.320360</td>\n      <td>L1</td>\n      <td>114.234489</td>\n      <td>On Tat Shopping Centre (\u5b89\u9054\u5546\u5834)</td>\n      <td>0</td>\n      <td>0</td>\n      <td>0</td>\n    </tr>\n    <tr>\n      <th>2</th>\n      <td>Shop &amp; Service</td>\n      <td>22.314968</td>\n      <td>L1</td>\n      <td>114.229987</td>\n      <td>Tsui Ping Shopping Circuit \u7fe0\u5c4f\u5546\u5834</td>\n      <td>0</td>\n      <td>0</td>\n      <td>0</td>\n    </tr>\n    <tr>\n      <th>0</th>\n      <td>Bus Stop</td>\n      <td>22.316921</td>\n      <td>L1</td>\n      <td>114.235785</td>\n      <td>Sau Fai House Bus Stop \u79c0\u6689\u6a13\u5df4\u58eb\u7ad9</td>\n      <td>0</td>\n      <td>0</td>\n      <td>0</td>\n    </tr>\n    <tr>\n      <th>0</th>\n      <td>Food</td>\n      <td>22.372900</td>\n      <td>L2</td>\n      <td>113.964900</td>\n      <td>Lee Kam Kee Vietnamese Food &amp; Drinks (\u674e\u9326\u57fa\u8d8a\u5357\u98f2\u98df)</td>\n      <td>0</td>\n      <td>0</td>\n      <td>0</td>\n    </tr>\n  </tbody>\n</table>\n</div>",
                        "text/plain": "         Category   Latitude Location   Longitude  \\\n0  Shop & Service  22.319338       L1  114.231681   \n1  Shop & Service  22.320360       L1  114.234489   \n2  Shop & Service  22.314968       L1  114.229987   \n0        Bus Stop  22.316921       L1  114.235785   \n0            Food  22.372900       L2  113.964900   \n\n                                             Name Tips Users Visits  \n0            Sau Mau Ping Shopping Centre (\u79c0\u8302\u576a\u5546\u5834)    0     0      0  \n1                   On Tat Shopping Centre (\u5b89\u9054\u5546\u5834)    0     0      0  \n2                 Tsui Ping Shopping Circuit \u7fe0\u5c4f\u5546\u5834    0     0      0  \n0                   Sau Fai House Bus Stop \u79c0\u6689\u6a13\u5df4\u58eb\u7ad9    0     0      0  \n0  Lee Kam Kee Vietnamese Food & Drinks (\u674e\u9326\u57fa\u8d8a\u5357\u98f2\u98df)    0     0      0  "
                    },
                    "execution_count": 47,
                    "metadata": {},
                    "output_type": "execute_result"
                }
            ],
            "source": "df_target_venues.head()"
        },
        {
            "cell_type": "code",
            "execution_count": 48,
            "metadata": {},
            "outputs": [
                {
                    "data": {
                        "text/html": "<div>\n<style scoped>\n    .dataframe tbody tr th:only-of-type {\n        vertical-align: middle;\n    }\n\n    .dataframe tbody tr th {\n        vertical-align: top;\n    }\n\n    .dataframe thead th {\n        text-align: right;\n    }\n</style>\n<table border=\"1\" class=\"dataframe\">\n  <thead>\n    <tr style=\"text-align: right;\">\n      <th></th>\n      <th>Category</th>\n      <th>Latitude</th>\n      <th>Location</th>\n      <th>Longitude</th>\n      <th>Name</th>\n      <th>Tips</th>\n      <th>Users</th>\n      <th>Visits</th>\n    </tr>\n  </thead>\n  <tbody>\n  </tbody>\n</table>\n</div>",
                        "text/plain": "Empty DataFrame\nColumns: [Category, Latitude, Location, Longitude, Name, Tips, Users, Visits]\nIndex: []"
                    },
                    "execution_count": 48,
                    "metadata": {},
                    "output_type": "execute_result"
                }
            ],
            "source": "df_target_venues[(df_target_venues.Tips > 0)|(df_target_venues.Users > 0)|(df_target_venues.Visits > 0)]"
        },
        {
            "cell_type": "code",
            "execution_count": 49,
            "metadata": {},
            "outputs": [],
            "source": "df_target_venues.drop(columns=['Tips','Users','Visits'], inplace=True)"
        },
        {
            "cell_type": "code",
            "execution_count": 50,
            "metadata": {},
            "outputs": [
                {
                    "data": {
                        "text/html": "<div>\n<style scoped>\n    .dataframe tbody tr th:only-of-type {\n        vertical-align: middle;\n    }\n\n    .dataframe tbody tr th {\n        vertical-align: top;\n    }\n\n    .dataframe thead th {\n        text-align: right;\n    }\n</style>\n<table border=\"1\" class=\"dataframe\">\n  <thead>\n    <tr style=\"text-align: right;\">\n      <th></th>\n      <th>Count</th>\n    </tr>\n  </thead>\n  <tbody>\n    <tr>\n      <th>Bus Stop</th>\n      <td>36</td>\n    </tr>\n    <tr>\n      <th>Shop &amp; Service</th>\n      <td>30</td>\n    </tr>\n    <tr>\n      <th>Food</th>\n      <td>12</td>\n    </tr>\n    <tr>\n      <th>Metro Station</th>\n      <td>4</td>\n    </tr>\n    <tr>\n      <th>Arts &amp; Entertainment</th>\n      <td>1</td>\n    </tr>\n  </tbody>\n</table>\n</div>",
                        "text/plain": "                      Count\nBus Stop                 36\nShop & Service           30\nFood                     12\nMetro Station             4\nArts & Entertainment      1"
                    },
                    "execution_count": 50,
                    "metadata": {},
                    "output_type": "execute_result"
                }
            ],
            "source": "df_target_venues['Category'].value_counts().to_frame(name='Count')"
        },
        {
            "cell_type": "markdown",
            "metadata": {},
            "source": "No venue is found for 'Nightlife Spot' category"
        },
        {
            "cell_type": "code",
            "execution_count": 51,
            "metadata": {},
            "outputs": [
                {
                    "data": {
                        "text/plain": "(83, 5)"
                    },
                    "execution_count": 51,
                    "metadata": {},
                    "output_type": "execute_result"
                }
            ],
            "source": "df_target_venues.shape"
        },
        {
            "cell_type": "markdown",
            "metadata": {},
            "source": "I only interested in number of venues in each category of dataframe.  "
        },
        {
            "cell_type": "code",
            "execution_count": 52,
            "metadata": {},
            "outputs": [
                {
                    "data": {
                        "text/html": "<div>\n<style scoped>\n    .dataframe tbody tr th:only-of-type {\n        vertical-align: middle;\n    }\n\n    .dataframe tbody tr th {\n        vertical-align: top;\n    }\n\n    .dataframe thead th {\n        text-align: right;\n    }\n</style>\n<table border=\"1\" class=\"dataframe\">\n  <thead>\n    <tr style=\"text-align: right;\">\n      <th></th>\n      <th>Cinema Name</th>\n      <th>Category</th>\n      <th>Count</th>\n    </tr>\n  </thead>\n  <tbody>\n    <tr>\n      <th>0</th>\n      <td>AMC Pacific Place</td>\n      <td>Arts &amp; Entertainment</td>\n      <td>8</td>\n    </tr>\n    <tr>\n      <th>1</th>\n      <td>AMC Pacific Place</td>\n      <td>Bus Stop</td>\n      <td>13</td>\n    </tr>\n    <tr>\n      <th>2</th>\n      <td>AMC Pacific Place</td>\n      <td>Food</td>\n      <td>8</td>\n    </tr>\n    <tr>\n      <th>3</th>\n      <td>AMC Pacific Place</td>\n      <td>Metro Station</td>\n      <td>1</td>\n    </tr>\n    <tr>\n      <th>4</th>\n      <td>AMC Pacific Place</td>\n      <td>Shop &amp; Service</td>\n      <td>21</td>\n    </tr>\n  </tbody>\n</table>\n</div>",
                        "text/plain": "         Cinema Name              Category  Count\n0  AMC Pacific Place  Arts & Entertainment      8\n1  AMC Pacific Place              Bus Stop     13\n2  AMC Pacific Place                  Food      8\n3  AMC Pacific Place         Metro Station      1\n4  AMC Pacific Place        Shop & Service     21"
                    },
                    "execution_count": 52,
                    "metadata": {},
                    "output_type": "execute_result"
                }
            ],
            "source": "df_venues_count = df_venues.groupby(['Cinema Name','Category'], as_index=False).count()\ndf_venues_count.drop(columns=['Latitude','Longitude'], inplace=True)\ndf_venues_count.rename(columns={'Name':'Count'}, inplace=True)\ndf_venues_count.head()"
        },
        {
            "cell_type": "code",
            "execution_count": 53,
            "metadata": {},
            "outputs": [
                {
                    "data": {
                        "text/html": "<div>\n<style scoped>\n    .dataframe tbody tr th:only-of-type {\n        vertical-align: middle;\n    }\n\n    .dataframe tbody tr th {\n        vertical-align: top;\n    }\n\n    .dataframe thead th {\n        text-align: right;\n    }\n</style>\n<table border=\"1\" class=\"dataframe\">\n  <thead>\n    <tr style=\"text-align: right;\">\n      <th>Category</th>\n      <th>Arts &amp; Entertainment</th>\n      <th>Bus Stop</th>\n      <th>Food</th>\n      <th>Metro Station</th>\n      <th>Shop &amp; Service</th>\n    </tr>\n    <tr>\n      <th>Cinema Name</th>\n      <th></th>\n      <th></th>\n      <th></th>\n      <th></th>\n      <th></th>\n    </tr>\n  </thead>\n  <tbody>\n    <tr>\n      <th>AMC Pacific Place</th>\n      <td>8.0</td>\n      <td>13.0</td>\n      <td>8.0</td>\n      <td>1.0</td>\n      <td>21.0</td>\n    </tr>\n    <tr>\n      <th>Broadway Circuit - CINEMATHEQUE</th>\n      <td>3.0</td>\n      <td>25.0</td>\n      <td>13.0</td>\n      <td>1.0</td>\n      <td>25.0</td>\n    </tr>\n    <tr>\n      <th>Broadway Circuit - CYBERPORT</th>\n      <td>0.0</td>\n      <td>2.0</td>\n      <td>1.0</td>\n      <td>0.0</td>\n      <td>3.0</td>\n    </tr>\n    <tr>\n      <th>Broadway Circuit - HOLLYWOOD</th>\n      <td>1.0</td>\n      <td>7.0</td>\n      <td>0.0</td>\n      <td>1.0</td>\n      <td>6.0</td>\n    </tr>\n    <tr>\n      <th>Broadway Circuit - KINGSWOOD GINZA</th>\n      <td>0.0</td>\n      <td>3.0</td>\n      <td>0.0</td>\n      <td>0.0</td>\n      <td>2.0</td>\n    </tr>\n  </tbody>\n</table>\n</div>",
                        "text/plain": "Category                            Arts & Entertainment  Bus Stop  Food  \\\nCinema Name                                                                \nAMC Pacific Place                                    8.0      13.0   8.0   \nBroadway Circuit - CINEMATHEQUE                      3.0      25.0  13.0   \nBroadway Circuit - CYBERPORT                         0.0       2.0   1.0   \nBroadway Circuit - HOLLYWOOD                         1.0       7.0   0.0   \nBroadway Circuit - KINGSWOOD GINZA                   0.0       3.0   0.0   \n\nCategory                            Metro Station  Shop & Service  \nCinema Name                                                        \nAMC Pacific Place                             1.0            21.0  \nBroadway Circuit - CINEMATHEQUE               1.0            25.0  \nBroadway Circuit - CYBERPORT                  0.0             3.0  \nBroadway Circuit - HOLLYWOOD                  1.0             6.0  \nBroadway Circuit - KINGSWOOD GINZA            0.0             2.0  "
                    },
                    "execution_count": 53,
                    "metadata": {},
                    "output_type": "execute_result"
                }
            ],
            "source": "df_venues_count = df_venues_count.pivot(index='Cinema Name', columns='Category', values='Count').fillna(0)\ndf_venues_count.head()"
        },
        {
            "cell_type": "code",
            "execution_count": 54,
            "metadata": {},
            "outputs": [],
            "source": "# Do the same process on target locations\ndf_target_venues_count = df_target_venues.groupby(['Location','Category']).size().reset_index(name='Count')\ndf_target_venues_count = df_target_venues_count.pivot(index='Location', columns='Category', values='Count').fillna(0)"
        },
        {
            "cell_type": "code",
            "execution_count": 55,
            "metadata": {},
            "outputs": [
                {
                    "data": {
                        "text/html": "<div>\n<style scoped>\n    .dataframe tbody tr th:only-of-type {\n        vertical-align: middle;\n    }\n\n    .dataframe tbody tr th {\n        vertical-align: top;\n    }\n\n    .dataframe thead th {\n        text-align: right;\n    }\n</style>\n<table border=\"1\" class=\"dataframe\">\n  <thead>\n    <tr style=\"text-align: right;\">\n      <th>Category</th>\n      <th>Arts &amp; Entertainment</th>\n      <th>Bus Stop</th>\n      <th>Food</th>\n      <th>Metro Station</th>\n      <th>Shop &amp; Service</th>\n    </tr>\n    <tr>\n      <th>Location</th>\n      <th></th>\n      <th></th>\n      <th></th>\n      <th></th>\n      <th></th>\n    </tr>\n  </thead>\n  <tbody>\n    <tr>\n      <th>L1</th>\n      <td>0.0</td>\n      <td>1.0</td>\n      <td>0.0</td>\n      <td>0.0</td>\n      <td>3.0</td>\n    </tr>\n    <tr>\n      <th>L2</th>\n      <td>0.0</td>\n      <td>4.0</td>\n      <td>2.0</td>\n      <td>0.0</td>\n      <td>1.0</td>\n    </tr>\n    <tr>\n      <th>L3</th>\n      <td>0.0</td>\n      <td>9.0</td>\n      <td>4.0</td>\n      <td>1.0</td>\n      <td>9.0</td>\n    </tr>\n    <tr>\n      <th>L4</th>\n      <td>1.0</td>\n      <td>9.0</td>\n      <td>2.0</td>\n      <td>1.0</td>\n      <td>5.0</td>\n    </tr>\n    <tr>\n      <th>L5</th>\n      <td>0.0</td>\n      <td>13.0</td>\n      <td>4.0</td>\n      <td>2.0</td>\n      <td>12.0</td>\n    </tr>\n  </tbody>\n</table>\n</div>",
                        "text/plain": "Category  Arts & Entertainment  Bus Stop  Food  Metro Station  Shop & Service\nLocation                                                                     \nL1                         0.0       1.0   0.0            0.0             3.0\nL2                         0.0       4.0   2.0            0.0             1.0\nL3                         0.0       9.0   4.0            1.0             9.0\nL4                         1.0       9.0   2.0            1.0             5.0\nL5                         0.0      13.0   4.0            2.0            12.0"
                    },
                    "execution_count": 55,
                    "metadata": {},
                    "output_type": "execute_result"
                }
            ],
            "source": "df_target_venues_count"
        },
        {
            "cell_type": "markdown",
            "metadata": {},
            "source": "Check boss's favorite cinema list"
        },
        {
            "cell_type": "code",
            "execution_count": 56,
            "metadata": {},
            "outputs": [
                {
                    "data": {
                        "text/plain": "[{'Name': 'Broadway Circuit - MONGKOK', 'Rating': 4.5},\n {'Name': 'Broadway Circuit - The ONE', 'Rating': 4.5},\n {'Name': 'Grand Ocean', 'Rating': 4.3},\n {'Name': 'The Grand Cinema', 'Rating': 3.4},\n {'Name': 'AMC Pacific Place', 'Rating': 2.3},\n {'Name': 'UA IMAX @ Airport', 'Rating': 1.5}]"
                    },
                    "execution_count": 56,
                    "metadata": {},
                    "output_type": "execute_result"
                }
            ],
            "source": "boss_favorite"
        },
        {
            "cell_type": "markdown",
            "metadata": {},
            "source": "Check boss's favorite cinemas are inside the hong kong cinemas dataset"
        },
        {
            "cell_type": "markdown",
            "metadata": {},
            "source": "Check the Hong Kong cinema list contains all stakeholder's favorite cinemas"
        },
        {
            "cell_type": "code",
            "execution_count": 57,
            "metadata": {},
            "outputs": [
                {
                    "data": {
                        "text/html": "<div>\n<style scoped>\n    .dataframe tbody tr th:only-of-type {\n        vertical-align: middle;\n    }\n\n    .dataframe tbody tr th {\n        vertical-align: top;\n    }\n\n    .dataframe thead th {\n        text-align: right;\n    }\n</style>\n<table border=\"1\" class=\"dataframe\">\n  <thead>\n    <tr style=\"text-align: right;\">\n      <th></th>\n      <th>Name</th>\n      <th>Address</th>\n      <th>Latitude</th>\n      <th>Longitude</th>\n    </tr>\n  </thead>\n  <tbody>\n    <tr>\n      <th>9</th>\n      <td>Broadway Circuit - MONGKOK</td>\n      <td>6-12 Sai Yeung Choi Street, Mongkok, Kowloon</td>\n      <td>22.317077</td>\n      <td>114.170662</td>\n    </tr>\n    <tr>\n      <th>12</th>\n      <td>Broadway Circuit - The ONE</td>\n      <td>6-11/F, The ONE, No. 100 Nathan Road, Tsim Sha...</td>\n      <td>22.300058</td>\n      <td>114.172667</td>\n    </tr>\n    <tr>\n      <th>17</th>\n      <td>AMC Pacific Place</td>\n      <td>Level 1, Pacific Place, 88 Queensway Road, Hon...</td>\n      <td>22.277673</td>\n      <td>114.165566</td>\n    </tr>\n    <tr>\n      <th>28</th>\n      <td>The Grand Cinema</td>\n      <td>2/F, Elements, 1 Austin Road West, Kowloon</td>\n      <td>22.304118</td>\n      <td>114.161466</td>\n    </tr>\n    <tr>\n      <th>32</th>\n      <td>Grand Ocean</td>\n      <td>Ocean Centre, 3 Canton Road, Kowloon</td>\n      <td>22.295165</td>\n      <td>114.169176</td>\n    </tr>\n    <tr>\n      <th>52</th>\n      <td>UA IMAX @ Airport</td>\n      <td>6P059, Level 6, Terminal 2, 1 Sky Plaza Road, ...</td>\n      <td>22.316668</td>\n      <td>113.937787</td>\n    </tr>\n  </tbody>\n</table>\n</div>",
                        "text/plain": "                          Name  \\\n9   Broadway Circuit - MONGKOK   \n12  Broadway Circuit - The ONE   \n17           AMC Pacific Place   \n28            The Grand Cinema   \n32                 Grand Ocean   \n52           UA IMAX @ Airport   \n\n                                              Address   Latitude   Longitude  \n9        6-12 Sai Yeung Choi Street, Mongkok, Kowloon  22.317077  114.170662  \n12  6-11/F, The ONE, No. 100 Nathan Road, Tsim Sha...  22.300058  114.172667  \n17  Level 1, Pacific Place, 88 Queensway Road, Hon...  22.277673  114.165566  \n28         2/F, Elements, 1 Austin Road West, Kowloon  22.304118  114.161466  \n32               Ocean Centre, 3 Canton Road, Kowloon  22.295165  114.169176  \n52  6P059, Level 6, Terminal 2, 1 Sky Plaza Road, ...  22.316668  113.937787  "
                    },
                    "execution_count": 57,
                    "metadata": {},
                    "output_type": "execute_result"
                }
            ],
            "source": "names = [ cinema['Name'] for cinema in boss_favorite ]\ndf_cinemas[df_cinemas.Name.isin(names)]"
        },
        {
            "cell_type": "markdown",
            "metadata": {},
            "source": "Stakholder's favorite cinema list"
        },
        {
            "cell_type": "code",
            "execution_count": 58,
            "metadata": {},
            "outputs": [
                {
                    "data": {
                        "text/html": "<div>\n<style scoped>\n    .dataframe tbody tr th:only-of-type {\n        vertical-align: middle;\n    }\n\n    .dataframe tbody tr th {\n        vertical-align: top;\n    }\n\n    .dataframe thead th {\n        text-align: right;\n    }\n</style>\n<table border=\"1\" class=\"dataframe\">\n  <thead>\n    <tr style=\"text-align: right;\">\n      <th></th>\n      <th>Name</th>\n      <th>Rating</th>\n    </tr>\n  </thead>\n  <tbody>\n    <tr>\n      <th>0</th>\n      <td>Broadway Circuit - MONGKOK</td>\n      <td>4.5</td>\n    </tr>\n    <tr>\n      <th>1</th>\n      <td>Broadway Circuit - The ONE</td>\n      <td>4.5</td>\n    </tr>\n    <tr>\n      <th>2</th>\n      <td>Grand Ocean</td>\n      <td>4.3</td>\n    </tr>\n    <tr>\n      <th>3</th>\n      <td>The Grand Cinema</td>\n      <td>3.4</td>\n    </tr>\n    <tr>\n      <th>4</th>\n      <td>AMC Pacific Place</td>\n      <td>2.3</td>\n    </tr>\n    <tr>\n      <th>5</th>\n      <td>UA IMAX @ Airport</td>\n      <td>1.5</td>\n    </tr>\n  </tbody>\n</table>\n</div>",
                        "text/plain": "                         Name  Rating\n0  Broadway Circuit - MONGKOK     4.5\n1  Broadway Circuit - The ONE     4.5\n2                 Grand Ocean     4.3\n3            The Grand Cinema     3.4\n4           AMC Pacific Place     2.3\n5           UA IMAX @ Airport     1.5"
                    },
                    "execution_count": 58,
                    "metadata": {},
                    "output_type": "execute_result"
                }
            ],
            "source": "df_boss_favorite = pd.DataFrame(boss_favorite, columns=['Name','Rating'])\ndf_boss_favorite"
        },
        {
            "cell_type": "markdown",
            "metadata": {},
            "source": "#### Data Analysis"
        },
        {
            "cell_type": "code",
            "execution_count": 59,
            "metadata": {},
            "outputs": [
                {
                    "name": "stdout",
                    "output_type": "stream",
                    "text": "Solving environment: done\n\n## Package Plan ##\n\n  environment location: /home/jupyterlab/conda\n\n  added / updated specs: \n    - seaborn=0.9\n\n\nThe following packages will be downloaded:\n\n    package                    |            build\n    ---------------------------|-----------------\n    seaborn-0.9.0              |           py36_0         379 KB\n    conda-4.5.11               |           py36_0         1.0 MB\n    ------------------------------------------------------------\n                                           Total:         1.4 MB\n\nThe following packages will be UPDATED:\n\n    certifi:         2018.8.24-py36_1     conda-forge --> 2018.8.24-py36_1 \n    conda:           4.5.11-py36_0        conda-forge --> 4.5.11-py36_0    \n    openssl:         1.0.2p-h470a237_0    conda-forge --> 1.0.2p-h14c3975_0\n    seaborn:         0.8.1-py36hfad7ec4_0             --> 0.9.0-py36_0     \n\nThe following packages will be DOWNGRADED:\n\n    ca-certificates: 2018.8.24-ha4d7672_0 conda-forge --> 2018.03.07-0     \n\n\nDownloading and Extracting Packages\nseaborn-0.9.0        | 379 KB    | ##################################### | 100% \nconda-4.5.11         | 1.0 MB    | ##################################### | 100% \nPreparing transaction: done\nVerifying transaction: done\nExecuting transaction: done\n"
                }
            ],
            "source": "!conda install seaborn=0.9 --yes"
        },
        {
            "cell_type": "code",
            "execution_count": 60,
            "metadata": {},
            "outputs": [],
            "source": "import matplotlib\nimport matplotlib.pyplot as plt\nimport seaborn as sns\n%matplotlib inline"
        },
        {
            "cell_type": "markdown",
            "metadata": {},
            "source": "Check the data type of variables"
        },
        {
            "cell_type": "code",
            "execution_count": 61,
            "metadata": {},
            "outputs": [
                {
                    "data": {
                        "text/html": "<div>\n<style scoped>\n    .dataframe tbody tr th:only-of-type {\n        vertical-align: middle;\n    }\n\n    .dataframe tbody tr th {\n        vertical-align: top;\n    }\n\n    .dataframe thead th {\n        text-align: right;\n    }\n</style>\n<table border=\"1\" class=\"dataframe\">\n  <thead>\n    <tr style=\"text-align: right;\">\n      <th></th>\n      <th>Data Type</th>\n    </tr>\n    <tr>\n      <th>Category</th>\n      <th></th>\n    </tr>\n  </thead>\n  <tbody>\n    <tr>\n      <th>Arts &amp; Entertainment</th>\n      <td>float64</td>\n    </tr>\n    <tr>\n      <th>Bus Stop</th>\n      <td>float64</td>\n    </tr>\n    <tr>\n      <th>Food</th>\n      <td>float64</td>\n    </tr>\n    <tr>\n      <th>Metro Station</th>\n      <td>float64</td>\n    </tr>\n    <tr>\n      <th>Shop &amp; Service</th>\n      <td>float64</td>\n    </tr>\n  </tbody>\n</table>\n</div>",
                        "text/plain": "                     Data Type\nCategory                      \nArts & Entertainment   float64\nBus Stop               float64\nFood                   float64\nMetro Station          float64\nShop & Service         float64"
                    },
                    "execution_count": 61,
                    "metadata": {},
                    "output_type": "execute_result"
                }
            ],
            "source": "df_venues_count.dtypes.to_frame(name='Data Type')"
        },
        {
            "cell_type": "markdown",
            "metadata": {},
            "source": "All datatype is numeric"
        },
        {
            "cell_type": "markdown",
            "metadata": {},
            "source": "Generates descriptive statistics that summarize the central tendency,\ndispersion and shape of a dataset's distribution"
        },
        {
            "cell_type": "code",
            "execution_count": 62,
            "metadata": {},
            "outputs": [
                {
                    "data": {
                        "text/html": "<div>\n<style scoped>\n    .dataframe tbody tr th:only-of-type {\n        vertical-align: middle;\n    }\n\n    .dataframe tbody tr th {\n        vertical-align: top;\n    }\n\n    .dataframe thead th {\n        text-align: right;\n    }\n</style>\n<table border=\"1\" class=\"dataframe\">\n  <thead>\n    <tr style=\"text-align: right;\">\n      <th>Category</th>\n      <th>Arts &amp; Entertainment</th>\n      <th>Bus Stop</th>\n      <th>Food</th>\n      <th>Metro Station</th>\n      <th>Shop &amp; Service</th>\n    </tr>\n  </thead>\n  <tbody>\n    <tr>\n      <th>count</th>\n      <td>57.000000</td>\n      <td>57.000000</td>\n      <td>57.000000</td>\n      <td>57.000000</td>\n      <td>57.000000</td>\n    </tr>\n    <tr>\n      <th>mean</th>\n      <td>1.140351</td>\n      <td>12.350877</td>\n      <td>9.087719</td>\n      <td>1.070175</td>\n      <td>15.333333</td>\n    </tr>\n    <tr>\n      <th>std</th>\n      <td>2.430745</td>\n      <td>9.510316</td>\n      <td>8.018462</td>\n      <td>0.820706</td>\n      <td>10.736010</td>\n    </tr>\n    <tr>\n      <th>min</th>\n      <td>0.000000</td>\n      <td>1.000000</td>\n      <td>0.000000</td>\n      <td>0.000000</td>\n      <td>2.000000</td>\n    </tr>\n    <tr>\n      <th>25%</th>\n      <td>0.000000</td>\n      <td>5.000000</td>\n      <td>2.000000</td>\n      <td>1.000000</td>\n      <td>6.000000</td>\n    </tr>\n    <tr>\n      <th>50%</th>\n      <td>0.000000</td>\n      <td>9.000000</td>\n      <td>6.000000</td>\n      <td>1.000000</td>\n      <td>11.000000</td>\n    </tr>\n    <tr>\n      <th>75%</th>\n      <td>1.000000</td>\n      <td>21.000000</td>\n      <td>16.000000</td>\n      <td>1.000000</td>\n      <td>30.000000</td>\n    </tr>\n    <tr>\n      <th>max</th>\n      <td>12.000000</td>\n      <td>30.000000</td>\n      <td>27.000000</td>\n      <td>4.000000</td>\n      <td>30.000000</td>\n    </tr>\n  </tbody>\n</table>\n</div>",
                        "text/plain": "Category  Arts & Entertainment   Bus Stop       Food  Metro Station  \\\ncount                57.000000  57.000000  57.000000      57.000000   \nmean                  1.140351  12.350877   9.087719       1.070175   \nstd                   2.430745   9.510316   8.018462       0.820706   \nmin                   0.000000   1.000000   0.000000       0.000000   \n25%                   0.000000   5.000000   2.000000       1.000000   \n50%                   0.000000   9.000000   6.000000       1.000000   \n75%                   1.000000  21.000000  16.000000       1.000000   \nmax                  12.000000  30.000000  27.000000       4.000000   \n\nCategory  Shop & Service  \ncount          57.000000  \nmean           15.333333  \nstd            10.736010  \nmin             2.000000  \n25%             6.000000  \n50%            11.000000  \n75%            30.000000  \nmax            30.000000  "
                    },
                    "execution_count": 62,
                    "metadata": {},
                    "output_type": "execute_result"
                }
            ],
            "source": "df_venues_count.describe()"
        },
        {
            "cell_type": "markdown",
            "metadata": {},
            "source": "Cinema really has many 'Bus Stop', 'Food', 'Shop & Service' venues around. However it is unusual that a cinema has 4 metro stations nearby (within 500 meters).  "
        },
        {
            "cell_type": "code",
            "execution_count": 63,
            "metadata": {},
            "outputs": [
                {
                    "data": {
                        "text/html": "<div>\n<style scoped>\n    .dataframe tbody tr th:only-of-type {\n        vertical-align: middle;\n    }\n\n    .dataframe tbody tr th {\n        vertical-align: top;\n    }\n\n    .dataframe thead th {\n        text-align: right;\n    }\n</style>\n<table border=\"1\" class=\"dataframe\">\n  <thead>\n    <tr style=\"text-align: right;\">\n      <th></th>\n      <th>Cinema Count</th>\n    </tr>\n  </thead>\n  <tbody>\n    <tr>\n      <th>0.0</th>\n      <td>13</td>\n    </tr>\n    <tr>\n      <th>1.0</th>\n      <td>30</td>\n    </tr>\n    <tr>\n      <th>2.0</th>\n      <td>12</td>\n    </tr>\n    <tr>\n      <th>3.0</th>\n      <td>1</td>\n    </tr>\n    <tr>\n      <th>4.0</th>\n      <td>1</td>\n    </tr>\n  </tbody>\n</table>\n</div>",
                        "text/plain": "     Cinema Count\n0.0            13\n1.0            30\n2.0            12\n3.0             1\n4.0             1"
                    },
                    "execution_count": 63,
                    "metadata": {},
                    "output_type": "execute_result"
                }
            ],
            "source": "df_venues_count['Metro Station'].value_counts().sort_index().to_frame('Cinema Count')"
        },
        {
            "cell_type": "markdown",
            "metadata": {},
            "source": "One cinema contains 4 Metro Station around"
        },
        {
            "cell_type": "code",
            "execution_count": 64,
            "metadata": {},
            "outputs": [
                {
                    "data": {
                        "text/html": "<div>\n<style scoped>\n    .dataframe tbody tr th:only-of-type {\n        vertical-align: middle;\n    }\n\n    .dataframe tbody tr th {\n        vertical-align: top;\n    }\n\n    .dataframe thead th {\n        text-align: right;\n    }\n</style>\n<table border=\"1\" class=\"dataframe\">\n  <thead>\n    <tr style=\"text-align: right;\">\n      <th>Category</th>\n      <th>Arts &amp; Entertainment</th>\n      <th>Bus Stop</th>\n      <th>Food</th>\n      <th>Metro Station</th>\n      <th>Shop &amp; Service</th>\n    </tr>\n    <tr>\n      <th>Cinema Name</th>\n      <th></th>\n      <th></th>\n      <th></th>\n      <th></th>\n      <th></th>\n    </tr>\n  </thead>\n  <tbody>\n    <tr>\n      <th>Broadway Circuit - The ONE</th>\n      <td>3.0</td>\n      <td>21.0</td>\n      <td>27.0</td>\n      <td>3.0</td>\n      <td>30.0</td>\n    </tr>\n    <tr>\n      <th>LUX Theatre</th>\n      <td>0.0</td>\n      <td>12.0</td>\n      <td>12.0</td>\n      <td>4.0</td>\n      <td>11.0</td>\n    </tr>\n  </tbody>\n</table>\n</div>",
                        "text/plain": "Category                    Arts & Entertainment  Bus Stop  Food  \\\nCinema Name                                                        \nBroadway Circuit - The ONE                   3.0      21.0  27.0   \nLUX Theatre                                  0.0      12.0  12.0   \n\nCategory                    Metro Station  Shop & Service  \nCinema Name                                                \nBroadway Circuit - The ONE            3.0            30.0  \nLUX Theatre                           4.0            11.0  "
                    },
                    "execution_count": 64,
                    "metadata": {},
                    "output_type": "execute_result"
                }
            ],
            "source": "df_venues_count[df_venues_count['Metro Station'] > 2]"
        },
        {
            "cell_type": "code",
            "execution_count": 65,
            "metadata": {},
            "outputs": [
                {
                    "data": {
                        "text/html": "<div>\n<style scoped>\n    .dataframe tbody tr th:only-of-type {\n        vertical-align: middle;\n    }\n\n    .dataframe tbody tr th {\n        vertical-align: top;\n    }\n\n    .dataframe thead th {\n        text-align: right;\n    }\n</style>\n<table border=\"1\" class=\"dataframe\">\n  <thead>\n    <tr style=\"text-align: right;\">\n      <th></th>\n      <th>Category</th>\n      <th>Cinema Name</th>\n      <th>Latitude</th>\n      <th>Longitude</th>\n      <th>Name</th>\n    </tr>\n  </thead>\n  <tbody>\n    <tr>\n      <th>609</th>\n      <td>Metro Station</td>\n      <td>Broadway Circuit - The ONE</td>\n      <td>22.297150</td>\n      <td>114.172230</td>\n      <td>MTR Tsim Sha Tsui Station (\u6e2f\u9435\u5c16\u6c99\u5480\u7ad9)</td>\n    </tr>\n    <tr>\n      <th>610</th>\n      <td>Metro Station</td>\n      <td>Broadway Circuit - The ONE</td>\n      <td>22.304787</td>\n      <td>114.171664</td>\n      <td>MTR Jordan Station (\u6e2f\u9435\u4f50\u6566\u7ad9)</td>\n    </tr>\n    <tr>\n      <th>611</th>\n      <td>Metro Station</td>\n      <td>Broadway Circuit - The ONE</td>\n      <td>22.295573</td>\n      <td>114.173652</td>\n      <td>MTR East Tsim Sha Tsui Station (\u6e2f\u9435\u5c16\u6771\u7ad9)</td>\n    </tr>\n    <tr>\n      <th>2180</th>\n      <td>Metro Station</td>\n      <td>LUX Theatre</td>\n      <td>22.305477</td>\n      <td>114.188624</td>\n      <td>MTR Whampoa Station (\u6e2f\u9435\u9ec3\u57d4\u7ad9)</td>\n    </tr>\n    <tr>\n      <th>2181</th>\n      <td>Metro Station</td>\n      <td>LUX Theatre</td>\n      <td>22.309115</td>\n      <td>114.182668</td>\n      <td>MTR Ho Man Tin Station (\u6e2f\u9435\u4f55\u6587\u7530\u7ad9)</td>\n    </tr>\n    <tr>\n      <th>2182</th>\n      <td>Metro Station</td>\n      <td>LUX Theatre</td>\n      <td>22.303110</td>\n      <td>114.181630</td>\n      <td>Mtr Hung Hom Station Platform 2</td>\n    </tr>\n    <tr>\n      <th>2183</th>\n      <td>Metro Station</td>\n      <td>LUX Theatre</td>\n      <td>22.303085</td>\n      <td>114.181160</td>\n      <td>Mtr Hung Hom Station Platform 4</td>\n    </tr>\n  </tbody>\n</table>\n</div>",
                        "text/plain": "           Category                 Cinema Name   Latitude   Longitude  \\\n609   Metro Station  Broadway Circuit - The ONE  22.297150  114.172230   \n610   Metro Station  Broadway Circuit - The ONE  22.304787  114.171664   \n611   Metro Station  Broadway Circuit - The ONE  22.295573  114.173652   \n2180  Metro Station                 LUX Theatre  22.305477  114.188624   \n2181  Metro Station                 LUX Theatre  22.309115  114.182668   \n2182  Metro Station                 LUX Theatre  22.303110  114.181630   \n2183  Metro Station                 LUX Theatre  22.303085  114.181160   \n\n                                        Name  \n609       MTR Tsim Sha Tsui Station (\u6e2f\u9435\u5c16\u6c99\u5480\u7ad9)  \n610               MTR Jordan Station (\u6e2f\u9435\u4f50\u6566\u7ad9)  \n611   MTR East Tsim Sha Tsui Station (\u6e2f\u9435\u5c16\u6771\u7ad9)  \n2180             MTR Whampoa Station (\u6e2f\u9435\u9ec3\u57d4\u7ad9)  \n2181         MTR Ho Man Tin Station (\u6e2f\u9435\u4f55\u6587\u7530\u7ad9)  \n2182         Mtr Hung Hom Station Platform 2  \n2183         Mtr Hung Hom Station Platform 4  "
                    },
                    "execution_count": 65,
                    "metadata": {},
                    "output_type": "execute_result"
                }
            ],
            "source": "metro_over_2 = df_venues_count[df_venues_count['Metro Station'] > 2].index.tolist()\ndf_venues[(df_venues['Cinema Name'].isin(metro_over_2)) & (df_venues.Category == 'Metro Station')]"
        },
        {
            "cell_type": "markdown",
            "metadata": {},
            "source": "Venue 'Mtr Hung Hom Station Platform 4' is duplicated and should be removed."
        },
        {
            "cell_type": "code",
            "execution_count": 66,
            "metadata": {},
            "outputs": [],
            "source": "df_venues.loc[2182, 'Name'] = 'MTR Hung Hom Station'"
        },
        {
            "cell_type": "code",
            "execution_count": 67,
            "metadata": {},
            "outputs": [],
            "source": "df_venues.drop(index=2183, inplace=True)"
        },
        {
            "cell_type": "markdown",
            "metadata": {},
            "source": "Re-construct the dataframe again"
        },
        {
            "cell_type": "code",
            "execution_count": 68,
            "metadata": {},
            "outputs": [
                {
                    "data": {
                        "text/html": "<div>\n<style scoped>\n    .dataframe tbody tr th:only-of-type {\n        vertical-align: middle;\n    }\n\n    .dataframe tbody tr th {\n        vertical-align: top;\n    }\n\n    .dataframe thead th {\n        text-align: right;\n    }\n</style>\n<table border=\"1\" class=\"dataframe\">\n  <thead>\n    <tr style=\"text-align: right;\">\n      <th>Category</th>\n      <th>Arts &amp; Entertainment</th>\n      <th>Bus Stop</th>\n      <th>Food</th>\n      <th>Metro Station</th>\n      <th>Shop &amp; Service</th>\n    </tr>\n    <tr>\n      <th>Cinema Name</th>\n      <th></th>\n      <th></th>\n      <th></th>\n      <th></th>\n      <th></th>\n    </tr>\n  </thead>\n  <tbody>\n    <tr>\n      <th>AMC Pacific Place</th>\n      <td>8.0</td>\n      <td>13.0</td>\n      <td>8.0</td>\n      <td>1.0</td>\n      <td>21.0</td>\n    </tr>\n    <tr>\n      <th>Broadway Circuit - CINEMATHEQUE</th>\n      <td>3.0</td>\n      <td>25.0</td>\n      <td>13.0</td>\n      <td>1.0</td>\n      <td>25.0</td>\n    </tr>\n    <tr>\n      <th>Broadway Circuit - CYBERPORT</th>\n      <td>0.0</td>\n      <td>2.0</td>\n      <td>1.0</td>\n      <td>0.0</td>\n      <td>3.0</td>\n    </tr>\n    <tr>\n      <th>Broadway Circuit - HOLLYWOOD</th>\n      <td>1.0</td>\n      <td>7.0</td>\n      <td>0.0</td>\n      <td>1.0</td>\n      <td>6.0</td>\n    </tr>\n    <tr>\n      <th>Broadway Circuit - KINGSWOOD GINZA</th>\n      <td>0.0</td>\n      <td>3.0</td>\n      <td>0.0</td>\n      <td>0.0</td>\n      <td>2.0</td>\n    </tr>\n  </tbody>\n</table>\n</div>",
                        "text/plain": "Category                            Arts & Entertainment  Bus Stop  Food  \\\nCinema Name                                                                \nAMC Pacific Place                                    8.0      13.0   8.0   \nBroadway Circuit - CINEMATHEQUE                      3.0      25.0  13.0   \nBroadway Circuit - CYBERPORT                         0.0       2.0   1.0   \nBroadway Circuit - HOLLYWOOD                         1.0       7.0   0.0   \nBroadway Circuit - KINGSWOOD GINZA                   0.0       3.0   0.0   \n\nCategory                            Metro Station  Shop & Service  \nCinema Name                                                        \nAMC Pacific Place                             1.0            21.0  \nBroadway Circuit - CINEMATHEQUE               1.0            25.0  \nBroadway Circuit - CYBERPORT                  0.0             3.0  \nBroadway Circuit - HOLLYWOOD                  1.0             6.0  \nBroadway Circuit - KINGSWOOD GINZA            0.0             2.0  "
                    },
                    "execution_count": 68,
                    "metadata": {},
                    "output_type": "execute_result"
                }
            ],
            "source": "df_venues_count = df_venues.groupby(['Cinema Name','Category'], as_index=False).count()\ndf_venues_count.drop(columns=['Latitude','Longitude'], inplace=True)\ndf_venues_count.rename(columns={'Name':'Count'}, inplace=True)\ndf_venues_count = df_venues_count.pivot(index='Cinema Name', columns='Category', values='Count').fillna(0)\ndf_venues_count.head()"
        },
        {
            "cell_type": "markdown",
            "metadata": {},
            "source": "Plot the distribution of other variables"
        },
        {
            "cell_type": "code",
            "execution_count": 69,
            "metadata": {},
            "outputs": [
                {
                    "data": {
                        "text/plain": "<matplotlib.axes._subplots.AxesSubplot at 0x7fdcc5602a58>"
                    },
                    "execution_count": 69,
                    "metadata": {},
                    "output_type": "execute_result"
                },
                {
                    "data": {
                        "image/png": "[encoded data removed]",
                        "text/plain": "<Figure size 720x720 with 4 Axes>"
                    },
                    "metadata": {},
                    "output_type": "display_data"
                }
            ],
            "source": "f, axes = plt.subplots(2, 2, figsize=(10, 10))\nsns.distplot(df_venues_count['Arts & Entertainment'] , color=\"skyblue\", ax=axes[0, 0], kde=False)\nsns.distplot(df_venues_count['Bus Stop'] , color=\"olive\", ax=axes[0, 1], kde=False)\nsns.distplot(df_venues_count['Food'] , color=\"gold\", ax=axes[1, 0], kde=False)\nsns.distplot(df_venues_count['Shop & Service'] , color=\"teal\", ax=axes[1, 1], kde=False)"
        },
        {
            "cell_type": "markdown",
            "metadata": {},
            "source": "The distribution of other variables are quite similar. Now check their **Pearson Correlation**"
        },
        {
            "cell_type": "code",
            "execution_count": 70,
            "metadata": {},
            "outputs": [
                {
                    "data": {
                        "text/html": "<div>\n<style scoped>\n    .dataframe tbody tr th:only-of-type {\n        vertical-align: middle;\n    }\n\n    .dataframe tbody tr th {\n        vertical-align: top;\n    }\n\n    .dataframe thead th {\n        text-align: right;\n    }\n</style>\n<table border=\"1\" class=\"dataframe\">\n  <thead>\n    <tr style=\"text-align: right;\">\n      <th>Category</th>\n      <th>Arts &amp; Entertainment</th>\n      <th>Bus Stop</th>\n      <th>Food</th>\n      <th>Metro Station</th>\n      <th>Shop &amp; Service</th>\n    </tr>\n    <tr>\n      <th>Category</th>\n      <th></th>\n      <th></th>\n      <th></th>\n      <th></th>\n      <th></th>\n    </tr>\n  </thead>\n  <tbody>\n    <tr>\n      <th>Arts &amp; Entertainment</th>\n      <td>1.000000</td>\n      <td>0.494525</td>\n      <td>0.414387</td>\n      <td>0.389271</td>\n      <td>0.506590</td>\n    </tr>\n    <tr>\n      <th>Bus Stop</th>\n      <td>0.494525</td>\n      <td>1.000000</td>\n      <td>0.893873</td>\n      <td>0.563799</td>\n      <td>0.896388</td>\n    </tr>\n    <tr>\n      <th>Food</th>\n      <td>0.414387</td>\n      <td>0.893873</td>\n      <td>1.000000</td>\n      <td>0.583749</td>\n      <td>0.872533</td>\n    </tr>\n    <tr>\n      <th>Metro Station</th>\n      <td>0.389271</td>\n      <td>0.563799</td>\n      <td>0.583749</td>\n      <td>1.000000</td>\n      <td>0.499546</td>\n    </tr>\n    <tr>\n      <th>Shop &amp; Service</th>\n      <td>0.506590</td>\n      <td>0.896388</td>\n      <td>0.872533</td>\n      <td>0.499546</td>\n      <td>1.000000</td>\n    </tr>\n  </tbody>\n</table>\n</div>",
                        "text/plain": "Category              Arts & Entertainment  Bus Stop      Food  Metro Station  \\\nCategory                                                                        \nArts & Entertainment              1.000000  0.494525  0.414387       0.389271   \nBus Stop                          0.494525  1.000000  0.893873       0.563799   \nFood                              0.414387  0.893873  1.000000       0.583749   \nMetro Station                     0.389271  0.563799  0.583749       1.000000   \nShop & Service                    0.506590  0.896388  0.872533       0.499546   \n\nCategory              Shop & Service  \nCategory                              \nArts & Entertainment        0.506590  \nBus Stop                    0.896388  \nFood                        0.872533  \nMetro Station               0.499546  \nShop & Service              1.000000  "
                    },
                    "execution_count": 70,
                    "metadata": {},
                    "output_type": "execute_result"
                }
            ],
            "source": "df_venues_count.corr()"
        },
        {
            "cell_type": "markdown",
            "metadata": {},
            "source": "It seems that 'Bus Stop', 'Shop & Service' and 'Food' category are highly correlated.  \nFind **P-Value** of the variables"
        },
        {
            "cell_type": "markdown",
            "metadata": {},
            "source": "By convention, when the p-value is:\n- < 0.001 we say there is strong evidence that the correlation is significant,\n- < 0.05; there is moderate evidence that the correlation is significant,\n- < 0.1; there is weak evidence that the correlation is significant, and\n- is >  0.1; there is no evidence that the correlation is significant."
        },
        {
            "cell_type": "code",
            "execution_count": 71,
            "metadata": {},
            "outputs": [],
            "source": "from scipy import stats"
        },
        {
            "cell_type": "code",
            "execution_count": 72,
            "metadata": {},
            "outputs": [],
            "source": "p_value_data = []\nfor left in df_venues_count.columns:\n    p_values = [left]\n    for right in df_venues_count.columns:        \n        pearson_coef, p_value = stats.pearsonr(df_venues_count[left], df_venues_count[right])\n        if(p_value < 0.001):\n            p_values.append('strong')\n        elif(p_value < 0.05):\n            p_values.append('moderate')\n        elif(p_value < 0.1):\n            p_values.append('weak')\n        else:\n            p_values.append('no')            \n    p_value_data.append(p_values)"
        },
        {
            "cell_type": "code",
            "execution_count": 73,
            "metadata": {},
            "outputs": [],
            "source": "df_p_values = pd.DataFrame(p_value_data, columns=['Category'] + df_venues_count.columns.tolist())"
        },
        {
            "cell_type": "code",
            "execution_count": 74,
            "metadata": {},
            "outputs": [
                {
                    "data": {
                        "text/html": "<div>\n<style scoped>\n    .dataframe tbody tr th:only-of-type {\n        vertical-align: middle;\n    }\n\n    .dataframe tbody tr th {\n        vertical-align: top;\n    }\n\n    .dataframe thead th {\n        text-align: right;\n    }\n</style>\n<table border=\"1\" class=\"dataframe\">\n  <thead>\n    <tr style=\"text-align: right;\">\n      <th></th>\n      <th>Category</th>\n      <th>Arts &amp; Entertainment</th>\n      <th>Bus Stop</th>\n      <th>Food</th>\n      <th>Metro Station</th>\n      <th>Shop &amp; Service</th>\n    </tr>\n  </thead>\n  <tbody>\n    <tr>\n      <th>0</th>\n      <td>Arts &amp; Entertainment</td>\n      <td>strong</td>\n      <td>strong</td>\n      <td>moderate</td>\n      <td>moderate</td>\n      <td>strong</td>\n    </tr>\n    <tr>\n      <th>1</th>\n      <td>Bus Stop</td>\n      <td>strong</td>\n      <td>strong</td>\n      <td>strong</td>\n      <td>strong</td>\n      <td>strong</td>\n    </tr>\n    <tr>\n      <th>2</th>\n      <td>Food</td>\n      <td>moderate</td>\n      <td>strong</td>\n      <td>strong</td>\n      <td>strong</td>\n      <td>strong</td>\n    </tr>\n    <tr>\n      <th>3</th>\n      <td>Metro Station</td>\n      <td>moderate</td>\n      <td>strong</td>\n      <td>strong</td>\n      <td>strong</td>\n      <td>strong</td>\n    </tr>\n    <tr>\n      <th>4</th>\n      <td>Shop &amp; Service</td>\n      <td>strong</td>\n      <td>strong</td>\n      <td>strong</td>\n      <td>strong</td>\n      <td>strong</td>\n    </tr>\n  </tbody>\n</table>\n</div>",
                        "text/plain": "               Category Arts & Entertainment Bus Stop      Food Metro Station  \\\n0  Arts & Entertainment               strong   strong  moderate      moderate   \n1              Bus Stop               strong   strong    strong        strong   \n2                  Food             moderate   strong    strong        strong   \n3         Metro Station             moderate   strong    strong        strong   \n4        Shop & Service               strong   strong    strong        strong   \n\n  Shop & Service  \n0         strong  \n1         strong  \n2         strong  \n3         strong  \n4         strong  "
                    },
                    "execution_count": 74,
                    "metadata": {},
                    "output_type": "execute_result"
                }
            ],
            "source": "df_p_values"
        },
        {
            "cell_type": "markdown",
            "metadata": {},
            "source": "The correlation between 'Bus Stop', 'Food', 'Metro Station' and 'Shop & Service' are statistically significant, and the coefficient of > 0.5 shows that the relationship is positive"
        },
        {
            "cell_type": "code",
            "execution_count": 75,
            "metadata": {},
            "outputs": [
                {
                    "data": {
                        "text/html": "<div>\n<style scoped>\n    .dataframe tbody tr th:only-of-type {\n        vertical-align: middle;\n    }\n\n    .dataframe tbody tr th {\n        vertical-align: top;\n    }\n\n    .dataframe thead th {\n        text-align: right;\n    }\n</style>\n<table border=\"1\" class=\"dataframe\">\n  <thead>\n    <tr style=\"text-align: right;\">\n      <th></th>\n      <th>Name</th>\n      <th>Rating</th>\n    </tr>\n  </thead>\n  <tbody>\n    <tr>\n      <th>0</th>\n      <td>Broadway Circuit - MONGKOK</td>\n      <td>4.5</td>\n    </tr>\n    <tr>\n      <th>1</th>\n      <td>Broadway Circuit - The ONE</td>\n      <td>4.5</td>\n    </tr>\n    <tr>\n      <th>2</th>\n      <td>Grand Ocean</td>\n      <td>4.3</td>\n    </tr>\n    <tr>\n      <th>3</th>\n      <td>The Grand Cinema</td>\n      <td>3.4</td>\n    </tr>\n    <tr>\n      <th>4</th>\n      <td>AMC Pacific Place</td>\n      <td>2.3</td>\n    </tr>\n    <tr>\n      <th>5</th>\n      <td>UA IMAX @ Airport</td>\n      <td>1.5</td>\n    </tr>\n  </tbody>\n</table>\n</div>",
                        "text/plain": "                         Name  Rating\n0  Broadway Circuit - MONGKOK     4.5\n1  Broadway Circuit - The ONE     4.5\n2                 Grand Ocean     4.3\n3            The Grand Cinema     3.4\n4           AMC Pacific Place     2.3\n5           UA IMAX @ Airport     1.5"
                    },
                    "execution_count": 75,
                    "metadata": {},
                    "output_type": "execute_result"
                }
            ],
            "source": "df_boss_favorite"
        },
        {
            "cell_type": "code",
            "execution_count": null,
            "metadata": {},
            "outputs": [
                {
                    "name": "stdout",
                    "output_type": "stream",
                    "text": "Solving environment: done\n\n## Package Plan ##\n\n  environment location: /home/jupyterlab/conda\n\n  added / updated specs: \n    - folium=0.5\n\n\nThe following packages will be downloaded:\n\n    package                    |            build\n    ---------------------------|-----------------\n    folium-0.5.0               |             py_0          45 KB  conda-forge\n    conda-4.5.11               |           py36_0         625 KB  conda-forge\n    certifi-2018.8.24          |        py36_1001         139 KB  conda-forge\n    vincent-0.4.4              |             py_1          28 KB  conda-forge\n    branca-0.3.0               |             py_0          24 KB  conda-forge\n    altair-2.2.2               |           py36_1         461 KB  conda-forge\n    ------------------------------------------------------------\n                                           Total:         1.3 MB\n\nThe following NEW packages will be INSTALLED:\n\n    altair:          2.2.2-py36_1      conda-forge\n    branca:          0.3.0-py_0        conda-forge\n    folium:          0.5.0-py_0        conda-forge\n    vincent:         0.4.4-py_1        conda-forge\n\nThe following packages will be UPDATED:\n\n    ca-certificates: 2018.03.07-0                  --> 2018.8.24-ha4d7672_0 conda-forge\n    certifi:         2018.8.24-py36_1              --> 2018.8.24-py36_1001  conda-forge\n    conda:           4.5.11-py36_0                 --> 4.5.11-py36_0        conda-forge\n    openssl:         1.0.2p-h14c3975_0             --> 1.0.2p-h470a237_0    conda-forge\n\n\nDownloading and Extracting Packages\nfolium-0.5.0         | 45 KB     | ##################################### | 100% \nconda-4.5.11         | 625 KB    | ##################################### | 100% \ncertifi-2018.8.24    | 139 KB    | ##################################### | 100% \nvincent-0.4.4        | 28 KB     | ##################################### | 100% \nbranca-0.3.0         | 24 KB     | ##################################### | 100% \naltair-2.2.2         | 461 KB    | ##################################### | 100% \nPreparing transaction: done\nVerifying transaction: / "
                }
            ],
            "source": "!conda install -c conda-forge folium=0.5 --yes\nimport folium\n\nprint('Folium installed and imported!')"
        },
        {
            "cell_type": "code",
            "execution_count": null,
            "metadata": {},
            "outputs": [],
            "source": "hk_coords = getLatLng('Hong Kong')"
        },
        {
            "cell_type": "markdown",
            "metadata": {},
            "source": "Visualize the location of cinemas, target location and stakeholder's favorite cineams on the map"
        },
        {
            "cell_type": "code",
            "execution_count": null,
            "metadata": {},
            "outputs": [],
            "source": "hk_map = folium.Map(location=hk_coords, zoom_start=12, tiles='Stamen Toner')\n\ncinemas_fg = folium.FeatureGroup()\ntargets_fg = folium.FeatureGroup()\n\nfor(location, address, latitude, longitude) in df_possible_locations.itertuples(index=False):\n    targets_fg.add_child(\n        folium.features.CircleMarker(\n            location=(latitude, longitude),\n            popup=location,\n            radius=5,\n            fill=True,\n            color='yellow',\n            fill_opacity=1.\n        )\n    )\n\nboss_ratings = df_boss_favorite.set_index('Name')    \nname_list = boss_ratings.index.tolist()\n\nfor (name, address, latitude, longitude ) in df_cinemas.itertuples(index=False):    \n    \n    color = 'blue'        \n    popup = name\n    \n    if( name in name_list ):\n        color = 'red'    \n        popup = '{} - Rating: {}'.format(name, boss_ratings.loc[name,'Rating'])\n        \n    cinemas_fg.add_child(        \n        folium.features.CircleMarker(\n            location=(latitude, longitude),\n            popup=popup,\n            radius=5,\n            fill=True,\n            color=color,\n            fill_opacity=1.\n        )\n    )\n    \nhk_map.add_child(cinemas_fg)\nhk_map.add_child(targets_fg)"
        },
        {
            "cell_type": "markdown",
            "metadata": {},
            "source": "Most of Hong Kong cinemas (blue circle) and stakeholder's favorite cinemas (red circle) location are built near main road, and centralized in urban area of Hong Kong. \nThe target locations (yellow circle) of new cinema are not near to main road."
        },
        {
            "cell_type": "markdown",
            "metadata": {},
            "source": "#### Machine Learning"
        },
        {
            "cell_type": "markdown",
            "metadata": {},
            "source": "Now, let's use __Content-Based__ or __Item-Item recommendation systems__. In this case, I am going to try to figure out the boss's favorite new cinema location by counting number of nearby venues and ratings given."
        },
        {
            "cell_type": "markdown",
            "metadata": {},
            "source": "Normalize the values of venues dataframe by using MinMaxScaler method"
        },
        {
            "cell_type": "code",
            "execution_count": null,
            "metadata": {},
            "outputs": [],
            "source": "df_venues_count.head()"
        },
        {
            "cell_type": "code",
            "execution_count": null,
            "metadata": {},
            "outputs": [],
            "source": "from sklearn.preprocessing import MinMaxScaler\nscaler = MinMaxScaler()"
        },
        {
            "cell_type": "code",
            "execution_count": null,
            "metadata": {},
            "outputs": [],
            "source": "venues_normalized = scaler.fit_transform(df_venues_count)"
        },
        {
            "cell_type": "code",
            "execution_count": null,
            "metadata": {},
            "outputs": [],
            "source": "df_venues_normalized = pd.DataFrame(\n    venues_normalized,\n    index=df_venues_count.index,\n    columns=df_venues_count.columns\n)"
        },
        {
            "cell_type": "code",
            "execution_count": null,
            "metadata": {},
            "outputs": [],
            "source": "df_venues_normalized.head()"
        },
        {
            "cell_type": "markdown",
            "metadata": {},
            "source": "Merge the data with boss's favorite list"
        },
        {
            "cell_type": "code",
            "execution_count": null,
            "metadata": {},
            "outputs": [],
            "source": "boss_rating_table = pd.merge(\n    df_boss_favorite,\n    df_venues_normalized,\n    how='inner',\n    left_on='Name',\n    right_index=True\n)\nboss_rating_table.drop(['Name','Rating'], axis=1, inplace=True)\nboss_rating_table"
        },
        {
            "cell_type": "markdown",
            "metadata": {},
            "source": "Dot product to get the weight of rating on each category according to boss's favorite"
        },
        {
            "cell_type": "code",
            "execution_count": null,
            "metadata": {},
            "outputs": [],
            "source": "boss_profile = boss_rating_table.transpose().dot(df_boss_favorite['Rating'])"
        },
        {
            "cell_type": "code",
            "execution_count": null,
            "metadata": {},
            "outputs": [],
            "source": "boss_profile"
        },
        {
            "cell_type": "markdown",
            "metadata": {},
            "source": "Normalize the values of target venues"
        },
        {
            "cell_type": "code",
            "execution_count": null,
            "metadata": {},
            "outputs": [],
            "source": "df_targets_normalized = pd.DataFrame(\n    scaler.transform(df_target_venues_count),\n    index=df_target_venues_count.index,\n    columns=df_target_venues_count.columns\n)"
        },
        {
            "cell_type": "code",
            "execution_count": null,
            "metadata": {},
            "outputs": [],
            "source": "df_targets_normalized"
        },
        {
            "cell_type": "markdown",
            "metadata": {},
            "source": "## Results"
        },
        {
            "cell_type": "markdown",
            "metadata": {},
            "source": "Results section where you discuss the results."
        },
        {
            "cell_type": "markdown",
            "metadata": {},
            "source": "With the boss's profile and the complete list of cinemas and their venues count in hand, I am going to take the weighted average of every lcoation based on the profile and recommend the top location that most satisfy it."
        },
        {
            "cell_type": "code",
            "execution_count": null,
            "metadata": {},
            "outputs": [],
            "source": "df_recommend = (df_targets_normalized*boss_profile).sum(axis=1)/boss_profile.sum()\ndf_recommend = df_recommend.reset_index(name='Rating')"
        },
        {
            "cell_type": "code",
            "execution_count": null,
            "metadata": {},
            "outputs": [],
            "source": "df_possible_locations"
        },
        {
            "cell_type": "code",
            "execution_count": null,
            "metadata": {},
            "outputs": [],
            "source": "df_final = pd.merge(\n    df_possible_locations,\n    df_recommend,\n    left_on='Location',\n    right_on='Location'\n)\ndf_final.sort_values('Rating', ascending=False, inplace=True)"
        },
        {
            "cell_type": "code",
            "execution_count": null,
            "metadata": {},
            "outputs": [],
            "source": "df_final"
        },
        {
            "cell_type": "code",
            "execution_count": null,
            "metadata": {},
            "outputs": [],
            "source": "print('I should recommend the location \"{}\" of address \"{}\" to the stackholder'.format(df_final.iat[0,0], df_final.iat[0,1]))"
        },
        {
            "cell_type": "markdown",
            "metadata": {},
            "source": "The result is reasonable. Location \"L5\" has the most number of venues in category \"Bus Stop\", \"Food\", \"Metro Station\" and \"Shop & Service\". "
        },
        {
            "cell_type": "code",
            "execution_count": null,
            "metadata": {},
            "outputs": [],
            "source": "df_target_venues_count.head()"
        },
        {
            "cell_type": "markdown",
            "metadata": {},
            "source": "Moreover, these categories are most concerned by the stakeholder according to profile rating"
        },
        {
            "cell_type": "code",
            "execution_count": null,
            "metadata": {},
            "outputs": [],
            "source": "boss_profile.sort_values(ascending=False)"
        },
        {
            "cell_type": "markdown",
            "metadata": {},
            "source": "Therefore, Location \"L5\" should be recommeded to the stakeholder"
        },
        {
            "cell_type": "markdown",
            "metadata": {},
            "source": "## Discussion "
        },
        {
            "cell_type": "markdown",
            "metadata": {},
            "source": "Discussion section where you discuss any observations you noted and any recommendations you can make based on the results."
        },
        {
            "cell_type": "markdown",
            "metadata": {},
            "source": "Number of venues of 5 target locations are actually below the average"
        },
        {
            "cell_type": "code",
            "execution_count": null,
            "metadata": {},
            "outputs": [],
            "source": "df_venues_count.mean().to_frame(name='Average Count')"
        },
        {
            "cell_type": "code",
            "execution_count": null,
            "metadata": {},
            "outputs": [],
            "source": "df_target_venues_count.mean().to_frame('Average Count')"
        },
        {
            "cell_type": "markdown",
            "metadata": {},
            "source": "I should contact local commercial property agents to find more suitable locations. Moreover, FourSquare is not popular in Hong Kong, the data maybe out-dated or unreliable, the report should gather more data from other location data source such as Google Place API."
        },
        {
            "cell_type": "markdown",
            "metadata": {},
            "source": "## Conclusion "
        },
        {
            "cell_type": "markdown",
            "metadata": {},
            "source": "Conclusion section where you conclude the report."
        },
        {
            "cell_type": "markdown",
            "metadata": {},
            "source": "The stakeholder's problem is resolved. Stakeholder wants to find the best place to build a new cinema in Hong Kong, and the factors of \"best location\" is based on the number of venues in eating, shopping, transportation category around the location. Stakeholder also provide his favorite list of cinema to further explain what the \"best location\" is. Content-based filtering machine learning technique is the most suitable method to resolve the problem. It combines stakeholder's preference and cinema profile to make the recommendation result.\n\nThe 5 target locations of new cinema may not be a good choices. As the weighting matrix is developed, I can quickly pick other locations and make the recommendation again.\n"
        }
    ],
    "metadata": {
        "kernelspec": {
            "display_name": "Python 3.6",
            "language": "python",
            "name": "python3"
        },
        "language_info": {
            "codemirror_mode": {
                "name": "ipython",
                "version": 3
            },
            "file_extension": ".py",
            "mimetype": "text/x-python",
            "name": "python",
            "nbconvert_exporter": "python",
            "pygments_lexer": "ipython3",
            "version": "3.6.9"
        }
    },
    "nbformat": 4,
    "nbformat_minor": 2
}